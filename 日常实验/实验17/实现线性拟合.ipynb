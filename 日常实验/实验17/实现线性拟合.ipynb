{
 "cells": [
  {
   "cell_type": "markdown",
   "metadata": {},
   "source": [
    "数据拟合点如下：<br>\n",
    "x0 = [75, 70, 65, 60, 55,50,45,40,35,30]<br>\n",
    "y0 = [22.44, 22.17, 21.74, 21.37, 20.92,20.67,20.32,20.05,19.84,19.59]<br>\n",
    "\n",
    "实现线性函数拟合，得到图1的结果。\n",
    "![](%E7%BA%BF%E6%80%A7%E5%87%BD%E6%95%B0%E6%8B%9F%E5%90%88%E7%BB%93%E6%9E%9C.png)\n",
    "##### （一）根据图中数据，利用plt.scatter画出散点图（红点）。"
   ]
  },
  {
   "cell_type": "code",
   "execution_count": 17,
   "metadata": {},
   "outputs": [
    {
     "data": {
      "image/png": "[encoded data removed]",
      "text/plain": [
       "<Figure size 432x288 with 1 Axes>"
      ]
     },
     "metadata": {
      "needs_background": "light"
     },
     "output_type": "display_data"
    }
   ],
   "source": [
    "##  基础函数库\n",
    "import numpy as np \n",
    "\n",
    "## 导入画图库\n",
    "import matplotlib.pyplot as plt\n",
    "import seaborn as sns\n",
    "\n",
    "x0 = np.array([75, 70, 65, 60, 55,50,45,40,35,30])\n",
    "y0 = np.array([22.44, 22.17, 21.74, 21.37, 20.92,20.67,20.32,20.05,19.84,19.59])\n",
    "\n",
    "\n",
    "## 可视化构造的数据样本点\n",
    "plt.figure()\n",
    "plt.rcParams['font.sans-serif'] = 'SimHei'\n",
    "plt.rcParams['axes.unicode_minus'] = False\n",
    "plt.scatter(x0[:],y0[:],3,\"red\")\n",
    "plt.title('散点图(红点)')\n",
    "plt.show()"
   ]
  },
  {
   "cell_type": "markdown",
   "metadata": {},
   "source": [
    "##### （二）采用直线拟合的方法，利用optimize.curve_fit进行线性拟合（拟合函数为y=a*x+b）"
   ]
  },
  {
   "cell_type": "code",
   "execution_count": 18,
   "metadata": {},
   "outputs": [
    {
     "data": {
      "image/png": "[encoded data removed]",
      "text/plain": [
       "<Figure size 432x288 with 1 Axes>"
      ]
     },
     "metadata": {
      "needs_background": "light"
     },
     "output_type": "display_data"
    }
   ],
   "source": [
    "import numpy as np  \n",
    "import matplotlib.pyplot as plt  \n",
    "from scipy import optimize  \n",
    "\n",
    "#直线方程函数  \n",
    "def fit_function(x, a, b):  \n",
    "    return a*x + b  \n",
    "\n",
    "#拟合点  \n",
    "x0 = np.array([75, 70, 65, 60, 55,50,45,40,35,30])\n",
    "y0 = np.array([22.44, 22.17, 21.74, 21.37, 20.92,20.67,20.32,20.05,19.84,19.59]) \n",
    "\n",
    "# 绘制散点图\n",
    "plt.figure()\n",
    "plt.rcParams['font.sans-serif'] = 'SimHei'\n",
    "plt.rcParams['axes.unicode_minus'] = False\n",
    "\n",
    "#直线拟合与绘制  \n",
    "A1, B1 = optimize.curve_fit(fit_function, x0, y0)[0]  \n",
    "x1 =  np.arange(30, 80, 5)\n",
    "y1 = A1*x1 + B1  \n",
    "plt.plot(x1, y1, \"blue\") \n",
    "plt.title('线性拟合')\n",
    "plt.show() "
   ]
  },
  {
   "cell_type": "markdown",
   "metadata": {},
   "source": [
    "##### （三）在同一个图中，画出拟合函数结果（蓝线）。"
   ]
  },
  {
   "cell_type": "code",
   "execution_count": null,
   "metadata": {},
   "outputs": [],
   "source": [
    "import numpy as np  \n",
    "import matplotlib.pyplot as plt  \n",
    "from scipy import optimize  \n",
    "\n",
    "#直线方程函数  \n",
    "def fit_function(x, a, b):  \n",
    "    return a*x + b  \n",
    "\n",
    "#拟合点  \n",
    "x0 = np.array([75, 70, 65, 60, 55,50,45,40,35,30])\n",
    "y0 = np.array([22.44, 22.17, 21.74, 21.37, 20.92,20.67,20.32,20.05,19.84,19.59]) \n",
    "\n",
    "# 绘制散点图\n",
    "plt.figure()\n",
    "plt.rcParams['font.sans-serif'] = 'SimHei'\n",
    "plt.rcParams['axes.unicode_minus'] = False\n",
    "plt.scatter(x0[:],y0[:],3,\"red\")\n",
    "\n",
    "#直线拟合与绘制  \n",
    "A1, B1 = optimize.curve_fit(fit_function, x0, y0)[0]  \n",
    "x1 =  np.arange(30, 80, 5)\n",
    "y1 = A1*x1 + B1  \n",
    "plt.plot(x1, y1, \"blue\") \n",
    "plt.title('线性拟合')\n",
    "plt.show() "
   ]
  },
  {
   "cell_type": "code",
   "execution_count": null,
   "metadata": {},
   "outputs": [],
   "source": [
    "#二次曲线方程\n",
    "def function(x, A, B, C):\n",
    "    return A*x*x + B*x + C\n",
    "\n",
    "A2, B2, C2 = optimize.curve_fit(function, x0, y0)[0]\n",
    "x2 = np.arange(0, 6, 0.01)\n",
    "y2 = A2*x2*x2 + B2*x2 + C2 \n",
    "plt.plot(x2, y2, \"green\")"
   ]
  }
 ],
 "metadata": {
  "interpreter": {
   "hash": "861f9c34f7302a1aedb62edfc1533c524ce2793735e6b405602ea89eb9cb2484"
  },
  "kernelspec": {
   "display_name": "Python 3.9.12 ('base')",
   "language": "python",
   "name": "python3"
  },
  "language_info": {
   "name": "python",
   "version": "3.9.12"
  },
  "orig_nbformat": 4
 },
 "nbformat": 4,
 "nbformat_minor": 2
}
