{
 "cells": [
  {
   "cell_type": "markdown",
   "metadata": {},
   "source": [
    "（一）编写加减乘除函数并测试使用"
   ]
  },
  {
   "cell_type": "code",
   "execution_count": 1,
   "metadata": {},
   "outputs": [
    {
     "name": "stdout",
     "output_type": "stream",
     "text": [
      "加法运算：\n",
      "1.0+6.0=7.0\n",
      "减法运算：\n",
      "4.0-9.0=-5.0\n",
      "乘法运算：\n",
      "3.0*78.0=234.0\n",
      "除法法运算：\n",
      "2.0/9.0=0.2222222222222222\n"
     ]
    }
   ],
   "source": [
    "class CalCulate:\n",
    "    @staticmethod\n",
    "    def calculator(flag):\n",
    "        num_1 = float(input(\"请输第一个数：\"))\n",
    "        num_2 = float(input(\"请输第二个数：\"))\n",
    "\n",
    "        if flag == \"+\":     #加法\n",
    "            res = num_1+num_2\n",
    "        elif flag == \"-\":   #减法\n",
    "            res = num_1-num_2\n",
    "        elif flag == \"*\":   #乘法\n",
    "            res = num_1*num_2\n",
    "        else:               #除法\n",
    "            while num_2 == 0:\n",
    "                num_2 = float(input(\"请重新输入被除数：\"))\n",
    "                break\n",
    "            res = num_1 / num_2\n",
    "        print(\"{}{}{}={}\".format(num_1, flag, num_2, res))\n",
    "\n",
    "print(\"加法运算：\")\n",
    "CalCulate.calculator(\"+\")\n",
    "print(\"减法运算：\")\n",
    "CalCulate.calculator(\"-\")\n",
    "print(\"乘法运算：\")\n",
    "CalCulate.calculator(\"*\")\n",
    "print(\"除法法运算：\")\n",
    "CalCulate.calculator(\"/\")"
   ]
  },
  {
   "cell_type": "markdown",
   "metadata": {},
   "source": [
    "（二）编写lamda表达式加减乘除函数并使用"
   ]
  },
  {
   "cell_type": "code",
   "execution_count": 9,
   "metadata": {},
   "outputs": [
    {
     "name": "stdout",
     "output_type": "stream",
     "text": [
      "4\n",
      "-3\n",
      "28\n",
      "0.3333333333333333\n"
     ]
    }
   ],
   "source": [
    "addition=lambda a,b:a+b\n",
    "print(addition(1,3))\n",
    "subtraction=lambda a,b:a-b\n",
    "print(subtraction(2,5))\n",
    "multiplication=lambda a,b:a*b\n",
    "print(multiplication(4,7))\n",
    "division= lambda a,b: a/b if b>0 else print('请重新输入被除数')\n",
    "print(division(3,9))"
   ]
  },
  {
   "cell_type": "markdown",
   "metadata": {},
   "source": [
    "（三）参考教材5.3,练习不同的参数类型策略"
   ]
  },
  {
   "cell_type": "code",
   "execution_count": 10,
   "metadata": {},
   "outputs": [
    {
     "name": "stdout",
     "output_type": "stream",
     "text": [
      "Hello Hello Hello \n"
     ]
    }
   ],
   "source": [
    "# 默认值参数：必须出现在函数参数列表的最右端，任何一个默认值参数右边不能有非默认值参数\n",
    "def say(message,times=3):\n",
    "    print(message*times)\n",
    "    \n",
    "say('Hello ')"
   ]
  },
  {
   "cell_type": "code",
   "execution_count": 14,
   "metadata": {},
   "outputs": [
    {
     "name": "stdout",
     "output_type": "stream",
     "text": [
      "3 6 5\n",
      "7 4 9\n",
      "3 1 8\n"
     ]
    }
   ],
   "source": [
    "# 关键参数:通过关键参数,实参顺序可以和形参顺序不一致\n",
    "def demo1(a,b,c=5):\n",
    "    print(a,b,c)\n",
    "\n",
    "demo1(3,6)\n",
    "demo1(a=7,b=4,c=9)\n",
    "demo1(c=8,a=3,b=1)"
   ]
  },
  {
   "cell_type": "code",
   "execution_count": 29,
   "metadata": {},
   "outputs": [
    {
     "name": "stdout",
     "output_type": "stream",
     "text": [
      "(1, 2, 3)\n",
      "(1, 2)\n",
      "(1, 3, 5, 7, 9)\n",
      "('x', 1)\n",
      "('y', 2)\n",
      "('z', 3)\n",
      "\n",
      "\n",
      "('a', 2)\n",
      "('b', 4)\n",
      "('c', 6)\n",
      "('d', 8)\n",
      "\n",
      "\n"
     ]
    }
   ],
   "source": [
    "# 可变长度参数:在参数名前加1个星号*或2个星号**\n",
    "# *parameter用来接收多个位置实参并将其放在元组中\n",
    "def demo2(*p):\n",
    "    print(p)\n",
    "    \n",
    "demo2(1,2,3)\n",
    "demo2(1,2)\n",
    "demo2(1,3,5,7,9)\n",
    "# **parameter接收多个关键参数并存放到字典中\n",
    "def demo3(**p):\n",
    "    for item in p.items():\n",
    "        print(item)\n",
    "    print('\\n')\n",
    "        \n",
    "demo3(x=1,y=2,z=3)\n",
    "demo3(a=2,b=4,c=6,d=8)"
   ]
  },
  {
   "cell_type": "markdown",
   "metadata": {},
   "source": [
    "#### （四）实验指导书-17:模拟汉诺塔问题\n",
    "实验目的：<br>\n",
    "&emsp;&emsp;1、理解函数默认值参数。<br>\n",
    "&emsp;&emsp;2、理解函数递归。<br>\n",
    "&emsp;&emsp;3、熟练运行列表对象的方法。<br>\n",
    "实验内容：<br>\n",
    "&emsp;&emsp;据说古代有一个梵塔，塔内有三个底座 A、B、C，A 座上有 64 个盘子，盘子大小不等，大的在下，小的在上。有一个和尚想把这 64 个盘子从 A 座移到 C 座，但每次只能允许移动一个盘子。在移动盘子的过程中可以利用 B 座，但任何时刻 3 个座上的盘子都必须始终保持大盘在下、小盘在上的顺序。如果只有一个盘子，则不需要利用 B 座，直接将盘子从 A 移动到 C 即可。编写函数，接收一个表示盘子数量的参数和分别表示源、目标、临时底座的参数，然后输出详细移动步骤和每次移动后三个底座上的盘子分布情况。"
   ]
  },
  {
   "cell_type": "code",
   "execution_count": 2,
   "metadata": {},
   "outputs": [
    {
     "name": "stdout",
     "output_type": "stream",
     "text": [
      "The 1 Times move:A==>C\n",
      "A : [3, 2]\n",
      "B : []\n",
      "C : [1]\n",
      "The 1 Times move:A==>B\n",
      "A : [3]\n",
      "B : [2]\n",
      "C : [1]\n",
      "The 1 Times move:C==>B\n",
      "A : [3]\n",
      "B : [2, 1]\n",
      "C : []\n",
      "The 1 Times move:A==>C\n",
      "A : []\n",
      "B : [2, 1]\n",
      "C : [3]\n",
      "The 1 Times move:B==>A\n",
      "A : [1]\n",
      "B : [2]\n",
      "C : [3]\n",
      "The 1 Times move:B==>C\n",
      "A : [1]\n",
      "B : []\n",
      "C : [3, 2]\n",
      "The 1 Times move:A==>C\n",
      "A : []\n",
      "B : []\n",
      "C : [3, 2, 1]\n"
     ]
    }
   ],
   "source": [
    "def Hanoi_Tower(num, src, dst, temp=None):  # 递归算法\n",
    "    if num < 1:\n",
    "        return\n",
    "\n",
    "    global times  # 用于声明记录移动次数的变量定义为全局变量\n",
    "    # 递归调用函数自生，先把除最后一个盘子之外的所有盘子移动到临时柱子上\n",
    "    Hanoi_Tower(num-1, src, temp, dst)\n",
    "    # 移动最后一个盘子\n",
    "    print('The {0} Times move:{1}==>{2}'.format(times, src, dst))\n",
    "    towers[dst].append(towers[src].pop())\n",
    "    for tower in 'ABC':  # 输出3根柱子上的盘子\n",
    "        print(tower, ':', towers[tower])\n",
    "    times+1\n",
    "    # 把除最后一个盘子之外的其他盘子从临时柱子上移动到目标柱子上\n",
    "    Hanoi_Tower(num-1, temp, dst, src)\n",
    "\n",
    "\n",
    "times = 1\n",
    "n = 3\n",
    "towers = {'A': list(range(n, 0, -1)),  # 初始状态，所有的盘子都在A柱上\n",
    "          'B': [],\n",
    "          'C': []\n",
    "          }\n",
    "\n",
    "# A表示最初放置盘子的柱子，C是目标柱子，B是临时柱子\n",
    "Hanoi_Tower(n, 'A', 'C', 'B')"
   ]
  }
 ],
 "metadata": {
  "interpreter": {
   "hash": "b003d8754f68205f230b91d29752a0899194161977d5c87b83f80e078894fa96"
  },
  "kernelspec": {
   "display_name": "Python 3.9.5 ('base')",
   "language": "python",
   "name": "python3"
  },
  "language_info": {
   "codemirror_mode": {
    "name": "ipython",
    "version": 3
   },
   "file_extension": ".py",
   "mimetype": "text/x-python",
   "name": "python",
   "nbconvert_exporter": "python",
   "pygments_lexer": "ipython3",
   "version": "3.9.5"
  },
  "orig_nbformat": 4
 },
 "nbformat": 4,
 "nbformat_minor": 2
}
