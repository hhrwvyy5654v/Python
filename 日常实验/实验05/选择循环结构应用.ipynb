{
 "cells": [
  {
   "cell_type": "markdown",
   "metadata": {},
   "source": [
    "（一）使用循环，判断一个正整数是否为素数"
   ]
  },
  {
   "cell_type": "code",
   "execution_count": 6,
   "metadata": {},
   "outputs": [
    {
     "name": "stdout",
     "output_type": "stream",
     "text": [
      "False\n"
     ]
    }
   ],
   "source": [
    "num= int(input(\"请输入一个正整数:\"))\n",
    "flag = True\n",
    "if num > 1:\n",
    "    for i in range(2,num):\n",
    "        if num%i == 0:\n",
    "            print('False')\n",
    "            break\n",
    "    else:\n",
    "        print('True')\n",
    "else:\n",
    "    print('False')"
   ]
  },
  {
   "cell_type": "markdown",
   "metadata": {},
   "source": [
    "（二）使用选择和循环，输出由1、2、3、4这四个数组成的每位数都不相同的所有三位数"
   ]
  },
  {
   "cell_type": "code",
   "execution_count": 12,
   "metadata": {},
   "outputs": [
    {
     "name": "stdout",
     "output_type": "stream",
     "text": [
      "123  124  132  134  142  143  213  214  231  234  241  243  312  314  321  324  341  342  412  413  421  423  431  432  "
     ]
    }
   ],
   "source": [
    "for i in range(1,5):\n",
    "    for j in range(1,5):\n",
    "        for k in range(1,5):\n",
    "            if(i!=j and i!=k and j!=k):\n",
    "                print(i*100+j*10+k,end='  ')"
   ]
  },
  {
   "cell_type": "markdown",
   "metadata": {},
   "source": [
    "（三）配套实验指导书-实验10 <br>\n",
    "实验内容：编写程序，模拟决赛现场最终成绩计算过程。首先输入大于2的整数作为评委人数，然后依次输入每个评委的打分，要求每个分数都介于0~100.输入完所有评委打分之后，去掉一个最高分，去掉一个最低分，剩余分数的平均分即为该选手的最终得分。"
   ]
  },
  {
   "cell_type": "code",
   "execution_count": 15,
   "metadata": {},
   "outputs": [
    {
     "name": "stdout",
     "output_type": "stream",
     "text": [
      "89.0\n"
     ]
    }
   ],
   "source": [
    "while True:\n",
    "    try:\n",
    "        judge_num = int(input('请输入评委人数:'))\n",
    "        assert judge_num > 2  # 断言：使得评委人数不满足程序运行的情况下直接返回错误\n",
    "        break\n",
    "    except:\n",
    "        print(\"必须输入大于2的整数作为评委人数。\")\n",
    "\n",
    "Highest_score = 0   #最高分\n",
    "Lowest_score = 100  #最低分\n",
    "total_score = 0     #总分\n",
    "\n",
    "# 依次输入每个评委的打分\n",
    "for i in range(judge_num):\n",
    "    while True:\n",
    "        try:\n",
    "            score=float(input('请输入第{}个评委的分数:'.format(i+1)))\n",
    "            assert 0<=score<=100\n",
    "            break;\n",
    "        except:\n",
    "            print(\"输入的分数必须在0~100之间。\")\n",
    "    total_score+=score\n",
    "    \n",
    "    # 更新最高分和最低分\n",
    "    if score>Highest_score:\n",
    "        Highest_score=score\n",
    "    if score<Lowest_score:\n",
    "        Lowest_score=score\n",
    "        \n",
    "# 计算平均分，保留2位小数\n",
    "Final_score=round((total_score-Highest_score-Lowest_score)/(judge_num-2),2)\n",
    "print(Final_score)"
   ]
  },
  {
   "cell_type": "markdown",
   "metadata": {},
   "source": [
    "（四）编写程序,计算100以内所有奇数的和"
   ]
  },
  {
   "cell_type": "code",
   "execution_count": 14,
   "metadata": {},
   "outputs": [
    {
     "name": "stdout",
     "output_type": "stream",
     "text": [
      "2500\n"
     ]
    }
   ],
   "source": [
    "odd_sum=0\n",
    "for i in range(101):\n",
    "    if i%2==1:  #判断一个数是否为奇数\n",
    "        odd_sum+=i\n",
    "        \n",
    "print(odd_sum)"
   ]
  }
 ],
 "metadata": {
  "interpreter": {
   "hash": "4ce0e62306dd6a5716965d4519ada776f947e6dfc145b604b11307c10277ef29"
  },
  "kernelspec": {
   "display_name": "Python 3.9.10 64-bit",
   "language": "python",
   "name": "python3"
  },
  "language_info": {
   "codemirror_mode": {
    "name": "ipython",
    "version": 3
   },
   "file_extension": ".py",
   "mimetype": "text/x-python",
   "name": "python",
   "nbconvert_exporter": "python",
   "pygments_lexer": "ipython3",
   "version": "3.9.5"
  },
  "orig_nbformat": 4
 },
 "nbformat": 4,
 "nbformat_minor": 2
}
