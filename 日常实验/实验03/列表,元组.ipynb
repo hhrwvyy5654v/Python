{
 "cells": [
  {
   "cell_type": "markdown",
   "metadata": {},
   "source": [
    "# 列表，元组\n",
    "## 列表的创建"
   ]
  },
  {
   "cell_type": "code",
   "execution_count": 1,
   "metadata": {},
   "outputs": [],
   "source": [
    "list_a = ['列''表''的''创''建']  # 使用赋值运算符\"=\"直接将一个列表赋值给变量\n",
    "list_b = []  # 创建空列表\n",
    "list_c = list((1, 3, 5, 7, 9))  # 使用list()函数将元组转换为列表"
   ]
  },
  {
   "cell_type": "code",
   "execution_count": 2,
   "metadata": {},
   "outputs": [
    {
     "data": {
      "text/plain": [
       "['h', 'e', 'l', 'l', 'o', 'w', 'o', 'r', 'd']"
      ]
     },
     "execution_count": 2,
     "metadata": {},
     "output_type": "execute_result"
    }
   ],
   "source": [
    "list(range(1, 10, 2))  # 使用list()函数将range转换转换为列表\n",
    "list('helloword')  # 使用list()函数将字符串对象转换转换为列表"
   ]
  },
  {
   "cell_type": "markdown",
   "metadata": {},
   "source": [
    "## 列表元素的增加"
   ]
  },
  {
   "cell_type": "markdown",
   "metadata": {},
   "source": [
    "### (1)使用\"+\"运算符将元素添加到列表"
   ]
  },
  {
   "cell_type": "code",
   "execution_count": 3,
   "metadata": {},
   "outputs": [
    {
     "name": "stdout",
     "output_type": "stream",
     "text": [
      "[3, 4, 5, 7]\n"
     ]
    }
   ],
   "source": [
    "list_d = [3, 4, 5]\n",
    "list_e = list_d+[7]\n",
    "print(list_e)"
   ]
  },
  {
   "cell_type": "markdown",
   "metadata": {},
   "source": [
    "\n",
    "### (2)使用列表对象的append()方法"
   ]
  },
  {
   "cell_type": "code",
   "execution_count": 4,
   "metadata": {},
   "outputs": [
    {
     "name": "stdout",
     "output_type": "stream",
     "text": [
      "[9]\n"
     ]
    }
   ],
   "source": [
    "f = []\n",
    "f.append(9)\n",
    "print(f)"
   ]
  },
  {
   "cell_type": "markdown",
   "metadata": {},
   "source": [
    "### (3)通过extend()方法来增加列表元素"
   ]
  },
  {
   "cell_type": "code",
   "execution_count": 5,
   "metadata": {},
   "outputs": [
    {
     "name": "stdout",
     "output_type": "stream",
     "text": [
      "[11, 13, 15]\n"
     ]
    }
   ],
   "source": [
    "g = []\n",
    "g.extend([11, 13, 15])\n",
    "print(g)"
   ]
  },
  {
   "cell_type": "markdown",
   "metadata": {},
   "source": [
    "### (4)使用运算符\"+=\"添加元素"
   ]
  },
  {
   "cell_type": "code",
   "execution_count": 6,
   "metadata": {},
   "outputs": [
    {
     "name": "stdout",
     "output_type": "stream",
     "text": [
      "['1', '2', '3', '4']\n",
      "['1', '2', '3', '4', 0, 1, 2]\n",
      "['1', '2', '3', '4', 0, 1, 2, '0', '1', '2']\n"
     ]
    }
   ],
   "source": [
    "h = []\n",
    "h += '1234'\n",
    "print(h)\n",
    "h += range(3)\n",
    "print(h)\n",
    "h += map(str, range(3))\n",
    "print(h)"
   ]
  },
  {
   "cell_type": "markdown",
   "metadata": {},
   "source": [
    "### (5)使用列表对象的insert()方法将元素添加至列表的指定位置"
   ]
  },
  {
   "cell_type": "code",
   "execution_count": 7,
   "metadata": {},
   "outputs": [
    {
     "name": "stdout",
     "output_type": "stream",
     "text": [
      "[1, 3, 5, 6, 7]\n"
     ]
    }
   ],
   "source": [
    "i = [1, 3, 5, 7]\n",
    "i.insert(3, 6)  # 在下标为3的位置插入元素6\n",
    "print(i)"
   ]
  },
  {
   "cell_type": "markdown",
   "metadata": {},
   "source": [
    "### (6) 使用乘法来拓展列表对象，将列表与整数相乘生成一个新列表"
   ]
  },
  {
   "cell_type": "code",
   "execution_count": 8,
   "metadata": {},
   "outputs": [
    {
     "name": "stdout",
     "output_type": "stream",
     "text": [
      "[2, 4, 6, 2, 4, 6, 2, 4, 6]\n"
     ]
    }
   ],
   "source": [
    "j = [2, 4, 6]\n",
    "j*=3\n",
    "print(j)"
   ]
  },
  {
   "cell_type": "markdown",
   "metadata": {},
   "source": [
    "## 列表元素的删除\n",
    "### (1)使用del命令删除列表中指定位置上的元素"
   ]
  },
  {
   "cell_type": "code",
   "execution_count": 9,
   "metadata": {},
   "outputs": [
    {
     "name": "stdout",
     "output_type": "stream",
     "text": [
      "[3, 7, 9]\n"
     ]
    }
   ],
   "source": [
    "list_k = [3, 5, 7, 9]\n",
    "del list_k[1]  # 删除第一个位置的元素\n",
    "print(list_k)"
   ]
  },
  {
   "cell_type": "markdown",
   "metadata": {},
   "source": [
    "### (2)使用列表pop()方法删除并返回指定位置上的元素(默认为最后一个)上的元素"
   ]
  },
  {
   "cell_type": "code",
   "execution_count": 10,
   "metadata": {},
   "outputs": [
    {
     "name": "stdout",
     "output_type": "stream",
     "text": [
      "[3, 5, 7, 9]\n",
      "[3, 7, 9]\n"
     ]
    }
   ],
   "source": [
    "list_l = list((3, 5, 7, 9, 11))\n",
    "list_l.pop()  # 删除最后一个元素\n",
    "print(list_l)\n",
    "list_l.pop(1)  # 删除第一个元素\n",
    "print(list_l)"
   ]
  },
  {
   "cell_type": "markdown",
   "metadata": {},
   "source": [
    "### (3)使用列表对象的remove()方法删除首次出现的指定元素"
   ]
  },
  {
   "cell_type": "code",
   "execution_count": 11,
   "metadata": {},
   "outputs": [
    {
     "name": "stdout",
     "output_type": "stream",
     "text": [
      "[3, 5, 9, 11]\n"
     ]
    }
   ],
   "source": [
    "list_m = [3, 5, 7, 9, 11]\n",
    "list_m.remove(7)\n",
    "print(list_m)"
   ]
  },
  {
   "cell_type": "markdown",
   "metadata": {},
   "source": [
    "## 列表元素访问与计数"
   ]
  },
  {
   "cell_type": "code",
   "execution_count": 12,
   "metadata": {},
   "outputs": [
    {
     "name": "stdout",
     "output_type": "stream",
     "text": [
      "56\n",
      "1\n",
      "2\n"
     ]
    }
   ],
   "source": [
    "list_n = [1, 2, 34, 56, 7.5, 23, 2]\n",
    "# (1)使用下标直接访问列表元素\n",
    "print(list_n[3])\n",
    "# (2)使用列表对象的index()方法获取指定元素首次出现的下标\n",
    "print(list_n.index(2))\n",
    "# (3)使用列表对象的count()方法统计指定元素在列表对象中出现的次数\n",
    "print(list_n.count(2))\n"
   ]
  },
  {
   "cell_type": "markdown",
   "metadata": {},
   "source": [
    "## 列表的成员资格判断"
   ]
  },
  {
   "cell_type": "code",
   "execution_count": 13,
   "metadata": {},
   "outputs": [
    {
     "name": "stdout",
     "output_type": "stream",
     "text": [
      "False\n"
     ]
    }
   ],
   "source": [
    "list_o = [3, 4, 5, 5.5, 7, 9, 11, 13, 15, 17]\n",
    "print(2 in list_o)"
   ]
  },
  {
   "cell_type": "markdown",
   "metadata": {},
   "source": [
    "## 列表切片的基本操作"
   ]
  },
  {
   "cell_type": "code",
   "execution_count": 14,
   "metadata": {},
   "outputs": [],
   "source": [
    "list_p=[3, 4, 5, 6, 7, 9, 11, 13, 15, 17]"
   ]
  },
  {
   "cell_type": "markdown",
   "metadata": {},
   "source": [
    "### (1)返回包含所有元素的新列表"
   ]
  },
  {
   "cell_type": "code",
   "execution_count": 15,
   "metadata": {},
   "outputs": [
    {
     "name": "stdout",
     "output_type": "stream",
     "text": [
      "[3, 4, 5, 6, 7, 9, 11, 13, 15, 17]\n"
     ]
    }
   ],
   "source": [
    "print(list_p[::]) "
   ]
  },
  {
   "cell_type": "markdown",
   "metadata": {},
   "source": [
    "### (2)逆序的所有元素\n"
   ]
  },
  {
   "cell_type": "code",
   "execution_count": 16,
   "metadata": {},
   "outputs": [
    {
     "name": "stdout",
     "output_type": "stream",
     "text": [
      "[17, 15, 13, 11, 9, 7, 6, 5, 4, 3]\n"
     ]
    }
   ],
   "source": [
    "print(list_p[::-1])"
   ]
  },
  {
   "cell_type": "markdown",
   "metadata": {},
   "source": [
    "### (3)偶数位置，隔一个取一个"
   ]
  },
  {
   "cell_type": "code",
   "execution_count": 17,
   "metadata": {},
   "outputs": [
    {
     "name": "stdout",
     "output_type": "stream",
     "text": [
      "[3, 5, 7, 11, 15]\n"
     ]
    }
   ],
   "source": [
    "print(list_p[::2])"
   ]
  },
  {
   "cell_type": "markdown",
   "metadata": {},
   "source": [
    "### (4)奇数位置，隔一个取一个"
   ]
  },
  {
   "cell_type": "code",
   "execution_count": 18,
   "metadata": {},
   "outputs": [
    {
     "name": "stdout",
     "output_type": "stream",
     "text": [
      "[4, 6, 9, 13, 17]\n"
     ]
    }
   ],
   "source": [
    "print(list_p[1::2])"
   ]
  },
  {
   "cell_type": "markdown",
   "metadata": {},
   "source": [
    "### (5)从下标3开始的所有元素"
   ]
  },
  {
   "cell_type": "code",
   "execution_count": 19,
   "metadata": {},
   "outputs": [
    {
     "name": "stdout",
     "output_type": "stream",
     "text": [
      "[6, 7, 9, 11, 13, 15, 17]\n"
     ]
    }
   ],
   "source": [
    "print(list_p[3::])"
   ]
  },
  {
   "cell_type": "markdown",
   "metadata": {},
   "source": [
    "### (6)下标在[3，6)之间的所有元素"
   ]
  },
  {
   "cell_type": "code",
   "execution_count": 20,
   "metadata": {},
   "outputs": [
    {
     "name": "stdout",
     "output_type": "stream",
     "text": [
      "[6, 7, 9]\n"
     ]
    }
   ],
   "source": [
    "print(list_p[3:6])"
   ]
  },
  {
   "cell_type": "markdown",
   "metadata": {},
   "source": [
    "### (7)前100个元素，自动截断"
   ]
  },
  {
   "cell_type": "code",
   "execution_count": 21,
   "metadata": {},
   "outputs": [
    {
     "name": "stdout",
     "output_type": "stream",
     "text": [
      "[3, 4, 5, 6, 7, 9, 11, 13, 15, 17]\n"
     ]
    }
   ],
   "source": [
    "print(list_p[0:100:1])"
   ]
  },
  {
   "cell_type": "markdown",
   "metadata": {},
   "source": [
    "### (8)下标4之后的所有元素，自动截断"
   ]
  },
  {
   "cell_type": "code",
   "execution_count": 22,
   "metadata": {},
   "outputs": [
    {
     "name": "stdout",
     "output_type": "stream",
     "text": [
      "[7, 9, 11, 13, 15, 17]\n"
     ]
    }
   ],
   "source": [
    "print(list_p[4:])"
   ]
  },
  {
   "cell_type": "markdown",
   "metadata": {},
   "source": [
    "## 使用切片原地修改列表内容"
   ]
  },
  {
   "cell_type": "code",
   "execution_count": 23,
   "metadata": {},
   "outputs": [],
   "source": [
    "list_r=[3,5,7]"
   ]
  },
  {
   "cell_type": "markdown",
   "metadata": {},
   "source": [
    "### (1)在尾部追加元素"
   ]
  },
  {
   "cell_type": "code",
   "execution_count": 24,
   "metadata": {},
   "outputs": [
    {
     "name": "stdout",
     "output_type": "stream",
     "text": [
      "[3, 5, 7, 9]\n"
     ]
    }
   ],
   "source": [
    "list_r[len(list_r):]=[9]\n",
    "print(list_r)"
   ]
  },
  {
   "cell_type": "markdown",
   "metadata": {},
   "source": [
    "### (2) 替换前3个元素"
   ]
  },
  {
   "cell_type": "code",
   "execution_count": 25,
   "metadata": {},
   "outputs": [
    {
     "name": "stdout",
     "output_type": "stream",
     "text": [
      "[1, 2, 3, 9]\n"
     ]
    }
   ],
   "source": [
    "list_r[:3] = [1, 2, 3] \n",
    "print(list_r)        "
   ]
  },
  {
   "cell_type": "markdown",
   "metadata": {},
   "source": [
    "### (3)删除前3个元素"
   ]
  },
  {
   "cell_type": "code",
   "execution_count": 26,
   "metadata": {},
   "outputs": [
    {
     "name": "stdout",
     "output_type": "stream",
     "text": [
      "[9]\n"
     ]
    }
   ],
   "source": [
    "list_r[:3]=[]\n",
    "print(list_r)"
   ]
  },
  {
   "cell_type": "markdown",
   "metadata": {},
   "source": [
    "### (4)替换偶数位置上的元素\n"
   ]
  },
  {
   "cell_type": "code",
   "execution_count": 27,
   "metadata": {},
   "outputs": [
    {
     "name": "stdout",
     "output_type": "stream",
     "text": [
      "[0, 1, 0, 3, 0, 5, 0, 7, 0, 9]\n"
     ]
    }
   ],
   "source": [
    "list_s=list(range(10))\n",
    "list_s[::2]=[0]*5\n",
    "print(list_s)"
   ]
  },
  {
   "cell_type": "markdown",
   "metadata": {},
   "source": [
    "### (5)使用del与切片结合来删除列表元素"
   ]
  },
  {
   "cell_type": "code",
   "execution_count": 28,
   "metadata": {},
   "outputs": [
    {
     "name": "stdout",
     "output_type": "stream",
     "text": [
      "[7, 9, 11, 13, 15, 17]\n",
      "[9, 13, 17]\n"
     ]
    }
   ],
   "source": [
    "list_t=[1,3,5,7,9,11,13,15,17]\n",
    "del list_t[:3]  #删除前3个元素\n",
    "print(list_t)\n",
    "del list_t[::2] #删除偶数位置上的元素\n",
    "print(list_t)"
   ]
  },
  {
   "cell_type": "markdown",
   "metadata": {},
   "source": [
    "## 列表的排序"
   ]
  },
  {
   "cell_type": "markdown",
   "metadata": {},
   "source": [
    "### (1)使用列表对象的sort()方法进行原地排序"
   ]
  },
  {
   "cell_type": "code",
   "execution_count": 29,
   "metadata": {},
   "outputs": [
    {
     "name": "stdout",
     "output_type": "stream",
     "text": [
      "[3, 4, 5, 5, 6, 7, 9, 11, 13, 15, 17]\n",
      "[17, 15, 13, 11, 9, 7, 6, 5, 5, 4, 3]\n",
      "[9, 7, 6, 5, 5, 4, 3, 17, 15, 13, 11]\n"
     ]
    }
   ],
   "source": [
    "list_u = [11, 4, 5, 6, 17,3, 7, 9, 5, 13, 15]\n",
    "list_u.sort()  #默认升序排序\n",
    "print(list_u)\n",
    "list_u.sort(reverse=True) #降序排序\n",
    "print(list_u)\n",
    "list_u.sort(key=lambda x:len(str(x))) #按转换成字符串的长度排序\n",
    "print(list_u)"
   ]
  },
  {
   "cell_type": "markdown",
   "metadata": {},
   "source": [
    "### (2)使用内置函数sorted()对列表进行排序并返回新列表"
   ]
  },
  {
   "cell_type": "code",
   "execution_count": 30,
   "metadata": {},
   "outputs": [
    {
     "name": "stdout",
     "output_type": "stream",
     "text": [
      "[3, 4, 5, 5, 6, 7, 9, 11, 13, 15, 17]\n",
      "[17, 15, 13, 11, 9, 7, 6, 5, 5, 4, 3]\n"
     ]
    }
   ],
   "source": [
    "list_v = [11, 4, 5, 6, 17,3, 7, 9, 5, 13, 15]\n",
    "print(sorted(list_v))  #升序排序\n",
    "print(sorted(list_v,reverse=True))  #降序排序"
   ]
  },
  {
   "cell_type": "markdown",
   "metadata": {},
   "source": [
    "### (3)使用列表对象的reverse()方法将元素原地逆序"
   ]
  },
  {
   "cell_type": "code",
   "execution_count": 31,
   "metadata": {},
   "outputs": [
    {
     "name": "stdout",
     "output_type": "stream",
     "text": [
      "[17, 15, 13, 11, 9, 7, 6, 5, 4, 3]\n"
     ]
    }
   ],
   "source": [
    "list_w=[3, 4, 5, 6, 7, 9, 11, 13, 15, 17]\n",
    "list_w.reverse()\n",
    "print(list_w)"
   ]
  },
  {
   "cell_type": "markdown",
   "metadata": {},
   "source": [
    "### (4)使用内置函数reversed()对列表元素进行逆序排列并返回迭代对象"
   ]
  },
  {
   "cell_type": "code",
   "execution_count": 32,
   "metadata": {},
   "outputs": [],
   "source": [
    "list_x=[3, 4, 5, 6, 7, 9, 11, 13, 15, 17]\n",
    "x_list=reversed(list_x) #返回reversed对象\n",
    "list(x_list)            #把reversed对象转换成列表\n",
    "for i in x_list:\n",
    "    print(i,end=' ')"
   ]
  },
  {
   "cell_type": "markdown",
   "metadata": {},
   "source": [
    "## 内置函数map,list,any,all,zip的使用"
   ]
  },
  {
   "cell_type": "markdown",
   "metadata": {},
   "source": [
    "### (1)all()和any()函数"
   ]
  },
  {
   "cell_type": "code",
   "execution_count": 33,
   "metadata": {},
   "outputs": [
    {
     "name": "stdout",
     "output_type": "stream",
     "text": [
      "True\n",
      "False\n",
      "True\n",
      "False\n"
     ]
    }
   ],
   "source": [
    "# all()函数用来测试列表、元组等序列对象以及map对象、zip对象等类似对象中是否所有元素都等价于True\n",
    "print(all([1,2,3]))\n",
    "print(all([0,1,2,3]))\n",
    "# any()函数用来测试序列或可迭代对象中是否存在等价于True的元素\n",
    "print(any([0,1,2,3]))\n",
    "print(any([0]))"
   ]
  },
  {
   "cell_type": "markdown",
   "metadata": {},
   "source": [
    "### (2)zip()函数"
   ]
  },
  {
   "cell_type": "code",
   "execution_count": 34,
   "metadata": {},
   "outputs": [
    {
     "data": {
      "text/plain": [
       "[(1, 'a'), (2, 'b'), (3, 'c')]"
      ]
     },
     "execution_count": 34,
     "metadata": {},
     "output_type": "execute_result"
    }
   ],
   "source": [
    "# zip()函数返回可迭代的zip对象\n",
    "a_list=[1,2,3]\n",
    "b_list=['a','b','c']\n",
    "c_list=zip(a_list,b_list) #返回zip对象\n",
    "list(c_list) #把zip对象转换成列表"
   ]
  },
  {
   "cell_type": "markdown",
   "metadata": {},
   "source": [
    "### (3)list()函数"
   ]
  },
  {
   "cell_type": "code",
   "execution_count": 35,
   "metadata": {},
   "outputs": [
    {
     "name": "stdout",
     "output_type": "stream",
     "text": [
      "['p', 'y', 't', 'h', 'o', 'n']\n",
      "['h', 'e', 'l', 'l', 'o', ' ', 'w', 'o', 'r', 'l', 'd', ' ', '!']\n",
      "[1, 'wt', 4]\n"
     ]
    }
   ],
   "source": [
    "# list函数可以将任何可迭代数据类型转换为列表类型，并返回转换后的列表\n",
    "a = list()  # 无参调用list函数创建一个空列表\n",
    "b = list('python')  # 将字符串转换为列表\n",
    "print(b)\n",
    "c = ('hello world !')  # 将元组转换为列表\n",
    "d = list(c)\n",
    "print(d)\n",
    "e={1,4,'wt'}  #将集合转换为列表\n",
    "f=list(e)\n",
    "print(f)"
   ]
  },
  {
   "cell_type": "markdown",
   "metadata": {},
   "source": [
    "### (4)map()函数"
   ]
  },
  {
   "cell_type": "code",
   "execution_count": 36,
   "metadata": {},
   "outputs": [
    {
     "name": "stdout",
     "output_type": "stream",
     "text": [
      "[1, 2, 3, 4, 5]\n"
     ]
    }
   ],
   "source": [
    "x=[1,2,3,4,5]\n",
    "y=list(map(int,x)) #遍历x的每一个元素\n",
    "print(y)"
   ]
  },
  {
   "cell_type": "markdown",
   "metadata": {},
   "source": [
    "## 列表推导式的使用"
   ]
  },
  {
   "cell_type": "markdown",
   "metadata": {},
   "source": [
    "### (1) list = [ i for i in range(a,b) ]"
   ]
  },
  {
   "cell_type": "code",
   "execution_count": 37,
   "metadata": {},
   "outputs": [
    {
     "name": "stdout",
     "output_type": "stream",
     "text": [
      "[1, 2, 3, 4, 5, 6, 7, 8, 9, 10, 11, 12, 13, 14, 15, 16, 17, 18, 19, 20]\n"
     ]
    }
   ],
   "source": [
    "list1=[i for i in range(1,21)]\n",
    "print(list1)"
   ]
  },
  {
   "cell_type": "markdown",
   "metadata": {},
   "source": [
    "### (2) list = [ i for i in range(a,b) if i%2==0 ]     "
   ]
  },
  {
   "cell_type": "code",
   "execution_count": 38,
   "metadata": {},
   "outputs": [
    {
     "name": "stdout",
     "output_type": "stream",
     "text": [
      "[0, 2, 4, 6, 8, 10, 12, 14, 16, 18, 20, 22, 24, 26, 28, 30, 32, 34, 36, 38, 40, 42, 44, 46, 48, 50, 52, 54, 56, 58, 60, 62, 64, 66, 68, 70, 72, 74, 76, 78, 80, 82, 84, 86, 88, 90, 92, 94, 96, 98, 100]\n"
     ]
    }
   ],
   "source": [
    "list2= [ i for i in range(0,101) if i%2==0 ] #遍历元素\n",
    "print(list2)"
   ]
  },
  {
   "cell_type": "markdown",
   "metadata": {},
   "source": [
    "### (3) list = [(i, j) for i in range(a, b) for j in range(c, d)]"
   ]
  },
  {
   "cell_type": "code",
   "execution_count": 39,
   "metadata": {},
   "outputs": [
    {
     "name": "stdout",
     "output_type": "stream",
     "text": [
      "[(0, 2), (0, 3), (1, 2), (1, 3), (2, 2), (2, 3)]\n"
     ]
    }
   ],
   "source": [
    "list3 = [(i, j) for i in range(0, 3) for j in range(2, 4)] #两层循环\n",
    "print(list3)"
   ]
  },
  {
   "cell_type": "markdown",
   "metadata": {},
   "source": [
    "### (4) list = [结果1 if 条件  else  结果2  for i in 可迭代] "
   ]
  },
  {
   "cell_type": "code",
   "execution_count": 40,
   "metadata": {},
   "outputs": [
    {
     "name": "stdout",
     "output_type": "stream",
     "text": [
      "['66', 'Hhh', 'JSY', 'JSY', 'MAIN']\n"
     ]
    }
   ],
   "source": [
    "list4 = ['66', 'hhh', 'jsy', 'JSY', 'main']\n",
    "# 如果是 h 开头的则将首字母大写，不是 h 开头则全部大写\n",
    "list5 = [word.title() if word.startswith('h') else word.upper() for word in list4] \n",
    "print(list5)"
   ]
  }
 ],
 "metadata": {
  "interpreter": {
   "hash": "4ce0e62306dd6a5716965d4519ada776f947e6dfc145b604b11307c10277ef29"
  },
  "kernelspec": {
   "display_name": "Python 3.9.10 64-bit",
   "language": "python",
   "name": "python3"
  },
  "language_info": {
   "codemirror_mode": {
    "name": "ipython",
    "version": 3
   },
   "file_extension": ".py",
   "mimetype": "text/x-python",
   "name": "python",
   "nbconvert_exporter": "python",
   "pygments_lexer": "ipython3",
   "version": "3.9.10"
  },
  "orig_nbformat": 4
 },
 "nbformat": 4,
 "nbformat_minor": 2
}
