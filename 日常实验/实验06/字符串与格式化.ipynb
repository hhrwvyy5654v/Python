{
 "cells": [
  {
   "cell_type": "markdown",
   "metadata": {},
   "source": [
    "（一）编写代码，练习% format f三种字符串格式化方法"
   ]
  },
  {
   "cell_type": "code",
   "execution_count": 5,
   "metadata": {},
   "outputs": [
    {
     "data": {
      "text/plain": [
       "'c,b,a'"
      ]
     },
     "execution_count": 5,
     "metadata": {},
     "output_type": "execute_result"
    }
   ],
   "source": [
    "# 通过位置来填充字符串\n",
    "'{0},{1},{2}'.format('a','b','c')\n",
    "'a,b,c'\n",
    "'{2},{1},{0}'.format('a','b','c')\n",
    "'c,b,a'"
   ]
  },
  {
   "cell_type": "code",
   "execution_count": 9,
   "metadata": {},
   "outputs": [
    {
     "name": "stdout",
     "output_type": "stream",
     "text": [
      "Hello Kevin , I am Tom\n"
     ]
    }
   ],
   "source": [
    "# 通过key来填充字符串\n",
    "print( 'Hello {name1} , I am {name2}'.format(name1='Kevin',name2='Tom'))"
   ]
  },
  {
   "cell_type": "code",
   "execution_count": 13,
   "metadata": {},
   "outputs": [
    {
     "name": "stdout",
     "output_type": "stream",
     "text": [
      "你好张三,我是李四。\n"
     ]
    }
   ],
   "source": [
    "# 通过下标来填充字符串\n",
    "names=['张三','李四']\n",
    "print('你好{names[0]},我是{names[1]}。'.format(names=names))"
   ]
  },
  {
   "cell_type": "markdown",
   "metadata": {},
   "source": [
    "（二）编写代码，参考教材4.1.2, 练习字符串常用方法"
   ]
  },
  {
   "cell_type": "code",
   "execution_count": 19,
   "metadata": {},
   "outputs": [
    {
     "name": "stdout",
     "output_type": "stream",
     "text": [
      "6\n",
      "19\n",
      "1\n",
      "25\n",
      "5\n"
     ]
    }
   ],
   "source": [
    "# find()、rfind()、index()、rindex()、count()\n",
    "str=\"apple,peach,banana,peach,pear\"\n",
    "print(str.find('peach'))  #find()方法用来查找一个字符串在另一个字符串指定范围中首次出现的位置\n",
    "print(str.rfind('peach'))  #rfind()方法用来查找一个字符串在另一个字符串指定范围中最后一次出现的位置\n",
    "print(str.index('p'))   #index()方法用来返回一个字符串在另一个字符串指定范围中首次出现的位置\n",
    "print(str.rindex('p'))  #rindex()方法用来返回一个字符串在另一个字符串指定范围中最后一次出现的位置\n",
    "print(str.count('p'))   #count()方法用来返回一个字符串在当前字符串中出现的次数"
   ]
  },
  {
   "cell_type": "code",
   "execution_count": 3,
   "metadata": {},
   "outputs": [
    {
     "name": "stdout",
     "output_type": "stream",
     "text": [
      "['apple', 'peach', 'banana', 'peach', 'pear']\n",
      "['apple', 'peach', 'banana', 'peach', 'pear']\n",
      "('apple', ',', 'peach,banana,peach,pear')\n",
      "('apple,peach,banana,peach', ',', 'pear')\n"
     ]
    }
   ],
   "source": [
    "# split()、rsplit()、partition()、rpartition()\n",
    "str=\"apple,peach,banana,peach,pear\"\n",
    "print(str.split(\",\"))   #split()方法分别用来以指定字符为分隔符，把当前字符串从左往右分隔成多个字符串，并返回包含分隔结果的列表\n",
    "print(str.rsplit(\",\"))  #rsplit()方法分别用来以指定字符为分隔符，把当前字符串从右往左分隔成多个字符串，并返回包含分隔结果的列表\n",
    "print(str.partition(\",\"))   #partition()用来以指定字符串为分隔符将原字符串分隔为3部分，即分隔符前的字符串、分隔符字符串、分隔符后的字符串，如果指定的分隔符不在原字符串中，则返回原字符串和两个空字符串。\n",
    "print(str.rpartition(\",\"))  #rpartition()用来以指定字符串为分隔符将原字符串分隔为3部分，即分隔符前的字符串、分隔符字符串、分隔符后的字符串，如果指定的分隔符不在原字符串中，则返回原字符串和两个空字符串。"
   ]
  },
  {
   "cell_type": "code",
   "execution_count": 5,
   "metadata": {},
   "outputs": [
    {
     "name": "stdout",
     "output_type": "stream",
     "text": [
      "['hello', 'world', 'My', 'name', 'is', 'Dong']\n",
      "['hello', 'world', 'My', 'name', 'is', 'Dong']\n"
     ]
    }
   ],
   "source": [
    "\"\"\" \n",
    "不指定分割符的split()和rsplit()方法,则字符串中的\n",
    "任何空白符号（空格、换行符、制表符等）都将被认为是\n",
    "分隔符，并删除切分结果中的空字符串。\n",
    "\"\"\"\n",
    "str='hello world \\n\\n My name is Dong   '\n",
    "print(str.split())\n",
    "print(str.rsplit())"
   ]
  },
  {
   "cell_type": "code",
   "execution_count": 8,
   "metadata": {},
   "outputs": [
    {
     "name": "stdout",
     "output_type": "stream",
     "text": [
      "['a', '', '', 'bb', '', 'ccc']\n",
      "['a', '', '', 'bb', '', 'ccc']\n",
      "['a', 'bb', 'ccc']\n"
     ]
    }
   ],
   "source": [
    "# 明确传递参数指定split()使用的分隔符时，保留切分得到的空字符串。\n",
    "str='a,,,bb,,ccc'   #以逗号作为独立的分隔符\n",
    "print(str.split(','))\n",
    "str='a\\t\\t\\tbb\\t\\tccc'  #以制表符作为独立的分隔符\n",
    "print(str.split('\\t'))\n",
    "str='a\\t\\t\\tbb\\t\\tccc'  #连续多个制表符被作为一个分隔符\n",
    "print(str.split())"
   ]
  },
  {
   "cell_type": "code",
   "execution_count": 12,
   "metadata": {},
   "outputs": [
    {
     "name": "stdout",
     "output_type": "stream",
     "text": [
      "[\"'\", 'hello\\t\\t world \\n\\n\\n My name is Dong   ']\n",
      "[\"'\", 'hello', 'world', 'My', 'name is Dong   ']\n",
      "[\"'\", 'hello', 'world', 'My', 'name', 'is', 'Dong   ']\n",
      "[\"'\", 'hello', 'world', 'My', 'name', 'is', 'Dong']\n"
     ]
    }
   ],
   "source": [
    "# split()和rsplit()方法指定最大分割次数\n",
    "str=\"'\\n\\nhello\\t\\t world \\n\\n\\n My name is Dong   \"\n",
    "print(str.split(None,1))    #不指定分隔符，使用空白字符作为分隔符\n",
    "print(str.split(None,4))    #指定分割四次\n",
    "print(str.split(maxsplit=6))    #指定最多分割六次\n",
    "print(str.split(maxsplit=100))  #最大分隔次数大于可分隔次数时无效"
   ]
  },
  {
   "cell_type": "code",
   "execution_count": 15,
   "metadata": {},
   "outputs": [
    {
     "name": "stdout",
     "output_type": "stream",
     "text": [
      "apple,peach,banana,pear\n",
      "apple.peach.banana.pear\n",
      "apple::peach::banana::pear\n"
     ]
    }
   ],
   "source": [
    "# 字符串连接join\n",
    "str=[\"apple\",\"peach\",\"banana\",\"pear\"]\n",
    "print(','.join(str))    #以“,”作为连接符\n",
    "print('.'.join(str))    #以“.”作为连接符\n",
    "print('::'.join(str))    #以“::”作为连接符"
   ]
  },
  {
   "cell_type": "code",
   "execution_count": 16,
   "metadata": {},
   "outputs": [
    {
     "name": "stdout",
     "output_type": "stream",
     "text": [
      "good,good,good,good,good\n"
     ]
    }
   ],
   "source": [
    "# 将字符串重复指定次数，并使用指定的分隔符进行连接，结果字符串最后不带分隔符\n",
    "def concat(str,num,separator):\n",
    "    return separator.join([str]*num)\n",
    "\n",
    "print(concat('good',5,','))"
   ]
  },
  {
   "cell_type": "code",
   "execution_count": 20,
   "metadata": {},
   "outputs": [
    {
     "name": "stdout",
     "output_type": "stream",
     "text": [
      "what is your name?\n",
      "WHAT IS YOUR NAME?\n",
      "What is your name?\n",
      "What Is Your Name?\n",
      "wHAT IS yOUR nAME?\n"
     ]
    }
   ],
   "source": [
    "# lower()、upper()、capitalize()、title()、swapcase()\n",
    "str=\"What is Your Name?\"\n",
    "print(str.lower())  #返回小写字符串\n",
    "print(str.upper())  #返回大写字符串\n",
    "print(str.capitalize()) #字符串首字母大写\n",
    "print(str.title()) #每个单词的首字母大写\n",
    "print(str.swapcase()) #大小写互换"
   ]
  },
  {
   "cell_type": "code",
   "execution_count": 21,
   "metadata": {},
   "outputs": [
    {
     "name": "stdout",
     "output_type": "stream",
     "text": [
      "这句***里含有***内容\n"
     ]
    }
   ],
   "source": [
    "# 查找替换replace()，类似于Word中的“全部替换”功能。\n",
    "words=('测试','非法','暴力','话')\n",
    "text='这句话里含有非法内容'\n",
    "for word in words:\n",
    "    if word in text:\n",
    "        text=text.replace(word,'***')\n",
    "\n",
    "print(text)"
   ]
  },
  {
   "cell_type": "code",
   "execution_count": 23,
   "metadata": {},
   "outputs": [
    {
     "data": {
      "text/plain": [
       "'二零二二年三月二捌日'"
      ]
     },
     "execution_count": 23,
     "metadata": {},
     "output_type": "execute_result"
    }
   ],
   "source": [
    "# maketrans()和translate()方法\n",
    "table=''.maketrans('0123456789', '零一二三四伍陆柒捌玖') #创建映射表\n",
    "str='2022年3月28日'\n",
    "str.translate(table)    #按映射表进行替换"
   ]
  },
  {
   "cell_type": "code",
   "execution_count": 33,
   "metadata": {},
   "outputs": [
    {
     "name": "stdout",
     "output_type": "stream",
     "text": [
      "aabbccddeeff\n",
      "aabbccddeeff\n",
      "aabbccddee\n",
      "bbccddeeff\n"
     ]
    }
   ],
   "source": [
    "# strip()、rstrip()、lstrip()方法\n",
    "str='  aabbccddeeff    '\n",
    "print(str.strip()) #删除空白字符\n",
    "str='aabbccddeeff'\n",
    "print(str.strip('cc'))  #删除指定字符cc\n",
    "print(str.rstrip('f'))  #删除字符串右端指定字符\n",
    "print(str.lstrip('a'))  #删除字符串左端指定字符"
   ]
  },
  {
   "cell_type": "code",
   "execution_count": 36,
   "metadata": {},
   "outputs": [
    {
     "name": "stdout",
     "output_type": "stream",
     "text": [
      "bbccddeeeffg\n",
      "bbccddeee\n",
      "ccdd\n"
     ]
    }
   ],
   "source": [
    "str='aabbccddeeeffg'\n",
    "print(str.strip('af'))    #字母f不在字符串两侧故不删除\n",
    "print(str.strip('gaf'))     #删除字符串两侧的'g''a''f'字符\n",
    "print(str.strip('gbaef'))   #删除字符串两侧的'g''b''a''e''f'字符"
   ]
  },
  {
   "cell_type": "code",
   "execution_count": 41,
   "metadata": {},
   "outputs": [
    {
     "name": "stdout",
     "output_type": "stream",
     "text": [
      "20.25\n",
      "4\n",
      "{'name': 'linux', 'age': 18}\n"
     ]
    }
   ],
   "source": [
    "# 内置eval()函数\n",
    "print(eval(\"1+3*6+5/4\"))  #计算表达式的值\n",
    "x=1\n",
    "print(eval('x+3'))  #计算含变量的值\n",
    "print(eval(\"{'name':'linux','age':18}\"))    #字符串转字典"
   ]
  },
  {
   "cell_type": "code",
   "execution_count": 44,
   "metadata": {},
   "outputs": [
    {
     "name": "stdout",
     "output_type": "stream",
     "text": [
      "True\n",
      "False\n",
      "False\n"
     ]
    }
   ],
   "source": [
    "#成员判断关键字in\n",
    "print('a' in 'abcde')\n",
    "print('f' in 'abcde')\n",
    "print('ac' in 'abcde') # 关键字in左边的字符串作为一个整体对待  "
   ]
  },
  {
   "cell_type": "code",
   "execution_count": 46,
   "metadata": {},
   "outputs": [
    {
     "name": "stdout",
     "output_type": "stream",
     "text": [
      "abcde abcde abcde \n"
     ]
    }
   ],
   "source": [
    "#字符串的乘法运算:字符串序列的重复\n",
    "print('abcde '*3)"
   ]
  },
  {
   "cell_type": "code",
   "execution_count": 54,
   "metadata": {},
   "outputs": [
    {
     "name": "stdout",
     "output_type": "stream",
     "text": [
      "True\n",
      "False\n",
      "True\n",
      "True\n",
      "True\n",
      "False\n"
     ]
    }
   ],
   "source": [
    "#startswith(t)、endswith(t)方法判断字符串是否以指定字符串开始或结束\n",
    "str='Simple is better than complex'\n",
    "print(str.startswith('Si'))    #检测整个字符串\n",
    "print(str.startswith('Si',5))  #指定检测范围起始位置\n",
    "print(str.startswith('Si',0,5))    #指定检测范围起始和结束位置\n",
    "print(str.endswith('ex'))    #检测整个字符串\n",
    "print(str.endswith('ex',5))  #指定检测范围起始位置"
   ]
  },
  {
   "cell_type": "code",
   "execution_count": 60,
   "metadata": {},
   "outputs": [
    {
     "name": "stdout",
     "output_type": "stream",
     "text": [
      "      Hello Python!      \n",
      "======Hello Python!======\n",
      "Hello Python!////////////\n",
      "++++++++++++Hello Python!\n"
     ]
    }
   ],
   "source": [
    "\"\"\"\n",
    "center()、ljust()、rjust()方法返回指定宽度的新字符串，\n",
    "原字符串居中、左对齐或右对齐出现在新字符串中，如果指定\n",
    "宽度大于字符串长度，则使用指定的字符(默认为空格)进行填充。\n",
    "\"\"\"\n",
    "str='Hello Python!'\n",
    "print(str.center(25))   #居中对齐，以空格进行填充\n",
    "print(str.center(25,'='))   #居中对齐，以字符'='进行填充\n",
    "print(str.ljust(25,'/'))    #左对齐，以字符'/'进行填充\n",
    "print(str.rjust(25,'+'))    #右对齐，以字符'+'进行填充"
   ]
  },
  {
   "cell_type": "code",
   "execution_count": 69,
   "metadata": {},
   "outputs": [
    {
     "name": "stdout",
     "output_type": "stream",
     "text": [
      "True\n",
      "False\n",
      "False\n",
      "False\n",
      "True\n",
      "False\n",
      "True\n"
     ]
    }
   ],
   "source": [
    "# isalnum()、isalpha()、isdigit()、isdecimal()、isnumeric()、isspace()、isupper()、islower(),\n",
    "str='1234abcd'\n",
    "print(str.isalnum())    #测试字符串是否为数字或字母\n",
    "print(str.isalpha())    #全部为英文字母时才返回True\n",
    "print(str.isdigit())    #全部为数字时返回True\n",
    "print(str.isdecimal())    #检查字符串是否只包含十进制字符\n",
    "print('   '.isspace())    #检查字符串是否为空白字符\n",
    "print(str.isupper())    #测试字符串是否为大写字母\n",
    "print(str.islower())    #测试字符串是否为小写字母"
   ]
  },
  {
   "cell_type": "code",
   "execution_count": 77,
   "metadata": {},
   "outputs": [
    {
     "name": "stdout",
     "output_type": "stream",
     "text": [
      "18\n",
      "31\n",
      "57\n"
     ]
    }
   ],
   "source": [
    "#compress()和decompress()函数用于字节串的压缩和解压缩。\n",
    "import zlib\n",
    "str=('Python程序设计 '*3).encode()\n",
    "print(len(x))\n",
    "str_c=zlib.compress(str)\n",
    "print(len(str_c))\n",
    "str_d=zlib.decompress(str_c)\n",
    "print(len(str_d))"
   ]
  },
  {
   "cell_type": "markdown",
   "metadata": {},
   "source": [
    "（三）使用jieba对段落\"人工智能是计算机科学的一个分支，它企图了解智能的实质，并生产出一种新的能以人类智能相似的方式做出反应的智能机器，该领域的研究包括机器人、语言识别、图像识别、自然语言处理和专家系统等。\"进行分词,并显示。"
   ]
  },
  {
   "cell_type": "code",
   "execution_count": 82,
   "metadata": {},
   "outputs": [
    {
     "name": "stdout",
     "output_type": "stream",
     "text": [
      "['人工', '人工智能', '智能', '是', '计算', '计算机', '计算机科学', '算机', '科学', '的', '一个', '分支', '，', '它', '企图', '了解', '智能', '的', '实质', '，', '并', '生产', '产出', '一种', '新', '的', '能', '以', '人类', '智能', '相似', '似的', '方式', '做出', '反应', '的', '智能', '智能机', '机器', '，', '该', '领域', '的', '研究', '包括', '机器', '机器人', '、', '语言', '识别', '、', '图像', '图像识别', '识别', '、', '自然', '自然语言', '语言', '处理', '和', '专家', '专家系统', '家系', '系统', '等', '。']\n"
     ]
    }
   ],
   "source": [
    "# 全匹配\n",
    "import jieba\n",
    "paragraph = jieba.cut(\"人工智能是计算机科学的一个分支，它企图了解智能的实质，并生产出一种新的能以人类智能相似的方式做出反应的智能机器，该领域的研究包括机器人、语言识别、图像识别、自然语言处理和专家系统等。\", cut_all=True)\n",
    "print(list(paragraph))  \n"
   ]
  },
  {
   "cell_type": "markdown",
   "metadata": {},
   "source": [
    "（四）使用正则表达,找出\"生财有道、极乐世界、情不自禁、愚公移山、魑魅魍魉、龙生九子、精卫填海、海市蜃楼、高山流水、卧薪尝胆、壮志凌云、金枝玉叶、四海一家、穿针引线、无忧无虑、无地自容、三位一体、落叶归根、相见恨晚、惊天动地、滔滔不绝、相濡以沫、长生不死、原来如此、女娲补天、三皇五帝、万箭穿心、水木清华、窈窕淑女\"中AABC和ABAC类型的成员。"
   ]
  },
  {
   "cell_type": "code",
   "execution_count": 17,
   "metadata": {},
   "outputs": [
    {
     "name": "stdout",
     "output_type": "stream",
     "text": [
      "无忧无虑 \n",
      "\n",
      "滔滔不绝\n"
     ]
    }
   ],
   "source": [
    "from re import findall\n",
    "text ='''生财有道,极乐世界,情不自禁,愚公移山,魑魅魍魉,龙生九子,精卫填海,\n",
    "海市蜃楼,高山流水,卧薪尝胆,壮志凌云,金枝玉叶,四海一家,穿针引线,无忧无虑,\n",
    "无地自容,三位一体,落叶归根,相见恨晚,惊天动地,滔滔不绝,相濡以沫,长生不死,\n",
    "原来如此,女娲补天,三皇五帝,万箭穿心,水木清华,窈窕淑女'''\n",
    "pattern1 = r'((.).\\2.)' #ABAC类型成员\n",
    "pattern2 = r'((.)\\2..)'   #AABC类型成员\n",
    "for item in findall(pattern1,text):\n",
    "    print(item[0],'\\n')\n",
    "\n",
    "for item in findall(pattern2,text):\n",
    "    print(item[0])"
   ]
  }
 ],
 "metadata": {
  "interpreter": {
   "hash": "b003d8754f68205f230b91d29752a0899194161977d5c87b83f80e078894fa96"
  },
  "kernelspec": {
   "display_name": "Python 3.9.5 ('base')",
   "language": "python",
   "name": "python3"
  },
  "language_info": {
   "codemirror_mode": {
    "name": "ipython",
    "version": 3
   },
   "file_extension": ".py",
   "mimetype": "text/x-python",
   "name": "python",
   "nbconvert_exporter": "python",
   "pygments_lexer": "ipython3",
   "version": "3.9.5"
  },
  "orig_nbformat": 4
 },
 "nbformat": 4,
 "nbformat_minor": 2
}
