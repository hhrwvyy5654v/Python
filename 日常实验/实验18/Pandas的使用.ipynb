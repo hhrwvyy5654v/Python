{
 "cells": [
  {
   "cell_type": "markdown",
   "metadata": {},
   "source": [
    "##### （一）从18.student_score.csv文件中读取同学的成绩册，处理好缺失值。"
   ]
  },
  {
   "cell_type": "code",
   "execution_count": 25,
   "metadata": {},
   "outputs": [
    {
     "name": "stdout",
     "output_type": "stream",
     "text": [
      "    序号  姓名   平时成绩 实验成绩  期末成绩\n",
      "0    1  张三   95.0    A  81.0\n",
      "1    2  李四   94.0    B  60.0\n",
      "2    3  王五   95.0    C  87.0\n",
      "3    4  马七   97.0    D  75.0\n",
      "4    5  梦雪   97.0    A  63.0\n",
      "5    6  樱花   94.0    A  66.0\n",
      "6    7  杏子   94.0    A  28.0\n",
      "7    8  天涯   99.0    A  76.0\n",
      "8    9  孔维   94.0    B  84.0\n",
      "9   10  赵四   95.0    D  86.0\n",
      "10  11  孙二  100.0    C  60.0\n",
      "12  13  太良   98.0    D  83.0\n",
      "13  14  丁云   95.0    D  83.0\n",
      "14  15  淑萍   98.0    D  80.0\n",
      "15  16  溪美   98.0    C  53.0\n",
      "16  17  泰山   96.0    A  67.0\n",
      "18  19  梅六   98.0    B  68.0\n",
      "19  20  云霞   96.0    B  85.0\n"
     ]
    }
   ],
   "source": [
    "# 读取数据\n",
    "import pandas as pd\n",
    "import numpy as np\n",
    "data = pd.read_csv(\"./student_score.csv\")\n",
    "# 删除至少包含一个缺失值的所在行 \n",
    "data.dropna(axis=0, how='any', inplace=True, subset=None)\n",
    "print(data)\n",
    "# 保存为新的csv文件\n",
    "data.to_csv('./Gradebook.csv')"
   ]
  },
  {
   "cell_type": "markdown",
   "metadata": {},
   "source": [
    "##### （二）将实验报告成绩从ABCD转换成百分制，统计出实验成绩。A为90分，B为75分，C为60分，D为40分。"
   ]
  },
  {
   "cell_type": "code",
   "execution_count": 26,
   "metadata": {},
   "outputs": [
    {
     "name": "stdout",
     "output_type": "stream",
     "text": [
      "    Unnamed: 0  序号  姓名   平时成绩  实验成绩  期末成绩\n",
      "0            0   1  张三   95.0    90  81.0\n",
      "1            1   2  李四   94.0    75  60.0\n",
      "2            2   3  王五   95.0    60  87.0\n",
      "3            3   4  马七   97.0    40  75.0\n",
      "4            4   5  梦雪   97.0    90  63.0\n",
      "5            5   6  樱花   94.0    90  66.0\n",
      "6            6   7  杏子   94.0    90  28.0\n",
      "7            7   8  天涯   99.0    90  76.0\n",
      "8            8   9  孔维   94.0    75  84.0\n",
      "9            9  10  赵四   95.0    40  86.0\n",
      "10          10  11  孙二  100.0    60  60.0\n",
      "11          12  13  太良   98.0    40  83.0\n",
      "12          13  14  丁云   95.0    40  83.0\n",
      "13          14  15  淑萍   98.0    40  80.0\n",
      "14          15  16  溪美   98.0    60  53.0\n",
      "15          16  17  泰山   96.0    90  67.0\n",
      "16          18  19  梅六   98.0    75  68.0\n",
      "17          19  20  云霞   96.0    75  85.0\n"
     ]
    }
   ],
   "source": [
    "import pandas as pd\n",
    "data = pd.read_csv(\"./Gradebook.csv\")\n",
    "gender = {'A':90,'B':75,'C':60,'D':40}\n",
    "data[\"实验成绩\"] = data[\"实验成绩\"].map(gender)\n",
    "print(data)\n",
    "data.to_csv('./Gradebook.csv')"
   ]
  },
  {
   "cell_type": "markdown",
   "metadata": {},
   "source": [
    "#### （三）按照平时成绩20%，实验成绩30%，期末成绩50%的比例计算综合成绩，形成新的综合成绩列。"
   ]
  },
  {
   "cell_type": "code",
   "execution_count": 27,
   "metadata": {},
   "outputs": [
    {
     "name": "stdout",
     "output_type": "stream",
     "text": [
      "    Unnamed: 0.1  Unnamed: 0  序号  姓名   平时成绩  实验成绩  期末成绩  综合成绩\n",
      "0              0           0   1  张三   95.0    90  81.0  86.5\n",
      "1              1           1   2  李四   94.0    75  60.0  71.3\n",
      "2              2           2   3  王五   95.0    60  87.0  80.5\n",
      "3              3           3   4  马七   97.0    40  75.0  68.9\n",
      "4              4           4   5  梦雪   97.0    90  63.0  77.9\n",
      "5              5           5   6  樱花   94.0    90  66.0  78.8\n",
      "6              6           6   7  杏子   94.0    90  28.0  59.8\n",
      "7              7           7   8  天涯   99.0    90  76.0  84.8\n",
      "8              8           8   9  孔维   94.0    75  84.0  83.3\n",
      "9              9           9  10  赵四   95.0    40  86.0  74.0\n",
      "10            10          10  11  孙二  100.0    60  60.0  68.0\n",
      "11            11          12  13  太良   98.0    40  83.0  73.1\n",
      "12            12          13  14  丁云   95.0    40  83.0  72.5\n",
      "13            13          14  15  淑萍   98.0    40  80.0  71.6\n",
      "14            14          15  16  溪美   98.0    60  53.0  64.1\n",
      "15            15          16  17  泰山   96.0    90  67.0  79.7\n",
      "16            16          18  19  梅六   98.0    75  68.0  76.1\n",
      "17            17          19  20  云霞   96.0    75  85.0  84.2\n"
     ]
    }
   ],
   "source": [
    "import pandas as pd\n",
    "import numpy as np\n",
    "data = pd.read_csv(r\"./Gradebook.csv\")\n",
    "# 再次读取原始csv文件数据，方便后面写入\n",
    "data1 = pd.read_csv(r\"./Gradebook.csv\")\n",
    "\n",
    "usual_grade=data[\"平时成绩\"]\n",
    "experimental_grade=data[\"实验成绩\"]\n",
    "final_grade=data[\"期末成绩\"]\n",
    "\n",
    "usual_grade=list(map(float, usual_grade))\n",
    "experimental_grade=list(map(float, experimental_grade))\n",
    "final_grade=list(map(float, final_grade))\n",
    "\n",
    "usual_grade=[x*0.2 for x in usual_grade]\n",
    "experimental_grade=[x*0.3 for x in experimental_grade]\n",
    "final_grade=[x*0.5 for x in final_grade]\n",
    "\n",
    "overall_grade=np.array(usual_grade)+np.array(experimental_grade)+np.array(final_grade)\n",
    "data1['综合成绩'] = overall_grade\n",
    "data1.to_csv(r\"./Gradebook.csv\", mode='w', index=False, encoding='utf-8-sig')\n",
    "data2=pd.read_csv(r\"./Gradebook.csv\")\n",
    "print(data2)"
   ]
  },
  {
   "cell_type": "markdown",
   "metadata": {},
   "source": [
    "##### （四）统计全班综合成绩[90,100],[80,89],[70,79],[60-69],[0,59]各段成绩的人数，并画饼图。"
   ]
  },
  {
   "cell_type": "code",
   "execution_count": 7,
   "metadata": {},
   "outputs": [
    {
     "data": {
      "text/plain": [
       "<AxesSubplot:title={'center':'学生成绩区间统计图'}, ylabel='综合成绩'>"
      ]
     },
     "execution_count": 7,
     "metadata": {},
     "output_type": "execute_result"
    },
    {
     "data": {
      "image/png": "[encoded data removed]",
      "text/plain": [
       "<Figure size 432x288 with 1 Axes>"
      ]
     },
     "metadata": {},
     "output_type": "display_data"
    }
   ],
   "source": [
    "import pandas as pd\n",
    "import numpy as np\n",
    "import matplotlib.pyplot as plt\n",
    "\n",
    "data = pd.read_csv(r\"./Gradebook.csv\")\n",
    "overall_grade=list(map(float, overall_grade ))\n",
    "\n",
    "y=pd.cut(data['综合成绩'],bins=[0,60,70,80,90,100],\\\n",
    "         labels=['0-59','60-69','70-79','80-89','90-100'])#分区间\n",
    "num=y.value_counts()  #统计区间人数\n",
    "\n",
    "plt.rcParams['font.sans-serif']=['SimHei']\n",
    "num.plot(kind='pie',title='学生成绩区间统计图')"
   ]
  },
  {
   "cell_type": "markdown",
   "metadata": {},
   "source": [
    "#### （五）将完整的成绩保存到score.csv文件中，打开excel检查输出是否正确。"
   ]
  },
  {
   "cell_type": "code",
   "execution_count": 10,
   "metadata": {},
   "outputs": [
    {
     "name": "stdout",
     "output_type": "stream",
     "text": [
      "    Unnamed: 0.1  Unnamed: 0  序号  姓名   平时成绩  实验成绩  期末成绩  综合成绩\n",
      "0              0           0   1  张三   95.0    90  81.0  86.5\n",
      "1              1           1   2  李四   94.0    75  60.0  71.3\n",
      "2              2           2   3  王五   95.0    60  87.0  80.5\n",
      "3              3           3   4  马七   97.0    40  75.0  68.9\n",
      "4              4           4   5  梦雪   97.0    90  63.0  77.9\n",
      "5              5           5   6  樱花   94.0    90  66.0  78.8\n",
      "6              6           6   7  杏子   94.0    90  28.0  59.8\n",
      "7              7           7   8  天涯   99.0    90  76.0  84.8\n",
      "8              8           8   9  孔维   94.0    75  84.0  83.3\n",
      "9              9           9  10  赵四   95.0    40  86.0  74.0\n",
      "10            10          10  11  孙二  100.0    60  60.0  68.0\n",
      "11            11          12  13  太良   98.0    40  83.0  73.1\n",
      "12            12          13  14  丁云   95.0    40  83.0  72.5\n",
      "13            13          14  15  淑萍   98.0    40  80.0  71.6\n",
      "14            14          15  16  溪美   98.0    60  53.0  64.1\n",
      "15            15          16  17  泰山   96.0    90  67.0  79.7\n",
      "16            16          18  19  梅六   98.0    75  68.0  76.1\n",
      "17            17          19  20  云霞   96.0    75  85.0  84.2\n"
     ]
    }
   ],
   "source": [
    "import pandas as pd\n",
    "\n",
    "data = pd.read_csv(r\"./Gradebook.csv\")\n",
    "print(data)\n",
    "data.to_csv(r\"./score.csv\", mode='w', index=False, encoding='utf-8-sig')"
   ]
  }
 ],
 "metadata": {
  "interpreter": {
   "hash": "861f9c34f7302a1aedb62edfc1533c524ce2793735e6b405602ea89eb9cb2484"
  },
  "kernelspec": {
   "display_name": "Python 3.9.12 ('base')",
   "language": "python",
   "name": "python3"
  },
  "language_info": {
   "codemirror_mode": {
    "name": "ipython",
    "version": 3
   },
   "file_extension": ".py",
   "mimetype": "text/x-python",
   "name": "python",
   "nbconvert_exporter": "python",
   "pygments_lexer": "ipython3",
   "version": "3.9.12"
  },
  "orig_nbformat": 4
 },
 "nbformat": 4,
 "nbformat_minor": 2
}
