{
 "cells": [
  {
   "cell_type": "markdown",
   "metadata": {},
   "source": [
    "# 字典、集合\n"
   ]
  },
  {
   "cell_type": "markdown",
   "metadata": {},
   "source": [
    "## 元组的创建\n",
    "\n",
    "### (1)使用\"=\"将一个元组赋值给变量\n"
   ]
  },
  {
   "cell_type": "code",
   "execution_count": 91,
   "metadata": {},
   "outputs": [
    {
     "name": "stdout",
     "output_type": "stream",
     "text": [
      "('a', 'b', 'mpilgrim', 'z', 'example')\n",
      "(3,)\n"
     ]
    }
   ],
   "source": [
    "tuple_a = ('a', 'b', 'mpilgrim', 'z', 'example')\n",
    "print(tuple_a)\n",
    "tuple_b = (3,)  # 包含一个元素的元组，最后必须多写一个逗号\n",
    "print(tuple_b)\n"
   ]
  },
  {
   "cell_type": "markdown",
   "metadata": {},
   "source": [
    "### (2)使用 tuple 函数将其他序列转换为元组\n"
   ]
  },
  {
   "cell_type": "code",
   "execution_count": 92,
   "metadata": {},
   "outputs": [
    {
     "name": "stdout",
     "output_type": "stream",
     "text": [
      "('a', 'b', 'c', 'd', 'e', 'f', 'g')\n",
      "(-1, -4, 6, 7.5, -2.3, 9, -11)\n"
     ]
    }
   ],
   "source": [
    "print(tuple('abcdefg'))  # 把字符串转换为元组\n",
    "list_a = [-1, -4, 6, 7.5, -2.3, 9, -11]\n",
    "print(tuple(list_a))  # 把列表转换为元组\n"
   ]
  },
  {
   "cell_type": "markdown",
   "metadata": {},
   "source": [
    "### (3)创建空元组\n"
   ]
  },
  {
   "cell_type": "code",
   "execution_count": 93,
   "metadata": {},
   "outputs": [],
   "source": [
    "tuple_c = ()  # 空元组\n"
   ]
  },
  {
   "cell_type": "markdown",
   "metadata": {},
   "source": [
    "## 元组的使用\n",
    "\n",
    "### (1)访问元组元素\n"
   ]
  },
  {
   "cell_type": "code",
   "execution_count": 94,
   "metadata": {},
   "outputs": [
    {
     "data": {
      "text/plain": [
       "4"
      ]
     },
     "execution_count": 94,
     "metadata": {},
     "output_type": "execute_result"
    }
   ],
   "source": [
    "tuple_d = (1, 2, 3, 4, 5)\n",
    "tuple_d[3]  # 下标从0开始顺序访问\n"
   ]
  },
  {
   "cell_type": "markdown",
   "metadata": {},
   "source": [
    "### (2)元组的切片\n"
   ]
  },
  {
   "cell_type": "code",
   "execution_count": 95,
   "metadata": {},
   "outputs": [
    {
     "name": "stdout",
     "output_type": "stream",
     "text": [
      "(11, 22, 33, 44, 55)\n",
      "(55, 44, 33, 22, 11)\n",
      "(22, 33, 44, 55)\n",
      "(22, 33, 44)\n",
      "(11, 33, 55)\n",
      "(22, 44)\n"
     ]
    }
   ],
   "source": [
    "tuple_e = (11, 22, 33, 44, 55)\n",
    "print(tuple_e[::])  # 返回包含所有元素的元组\n",
    "print(tuple_e[::-1])  # 逆序输出所有的元素\n",
    "print(tuple_e[1::])  # 从下标为1的元素开始遍历\n",
    "print(tuple_e[1:-1])  # 从下标为1的元素开始遍历至倒数第二个元素\n",
    "print(tuple_e[::2])  # 偶数位置，隔一个取一个\n",
    "print(tuple_e[1::2])  # 奇数位置,隔一个取一个\n"
   ]
  },
  {
   "cell_type": "markdown",
   "metadata": {},
   "source": [
    "## 元组的删除\n"
   ]
  },
  {
   "cell_type": "code",
   "execution_count": null,
   "metadata": {},
   "outputs": [],
   "source": [
    "tuple_f = (66, 22, 33, 44, 55, \"buk\")\n",
    "del tuple_f\n",
    "tuple_f  # 使用del关键字删除后，整个元组将不再存在"
   ]
  },
  {
   "cell_type": "markdown",
   "metadata": {},
   "source": [
    "## 字典的创建和删除\n",
    "\n",
    "### (1)使用\"=\"将一个字典赋值给一个变量\n"
   ]
  },
  {
   "cell_type": "code",
   "execution_count": null,
   "metadata": {},
   "outputs": [
    {
     "name": "stdout",
     "output_type": "stream",
     "text": [
      "{'server': 'db.diveintopython3.org', 'database': 'mysql'}\n"
     ]
    }
   ],
   "source": [
    "dict_a = {'server': 'db.diveintopython3.org', 'database': 'mysql'}\n",
    "print(dict_a)\n",
    "dict_b = {}  # 空字典\n"
   ]
  },
  {
   "cell_type": "markdown",
   "metadata": {},
   "source": [
    "### (2)使用 dict 利用已有数据创建字典\n"
   ]
  },
  {
   "cell_type": "code",
   "execution_count": null,
   "metadata": {},
   "outputs": [],
   "source": [
    "keys = ['a', 'b', 'c', 'd']\n",
    "values = [1, 2, 3, 4]\n",
    "dict_c = dict(zip(keys, values))\n",
    "dict_c\n",
    "dict_d = dict()  # 空字典"
   ]
  },
  {
   "cell_type": "markdown",
   "metadata": {},
   "source": [
    "### (3)使用 dict 根据给定的键和值创建字典\n"
   ]
  },
  {
   "cell_type": "code",
   "execution_count": null,
   "metadata": {},
   "outputs": [
    {
     "data": {
      "text/plain": [
       "{'name': 'Tom', 'age': 23}"
      ]
     },
     "execution_count": 30,
     "metadata": {},
     "output_type": "execute_result"
    }
   ],
   "source": [
    "dict_e = dict(name='Tom', age=23)\n",
    "dict_e\n"
   ]
  },
  {
   "cell_type": "markdown",
   "metadata": {},
   "source": [
    "### (4)以给定内容为键，创建值为空的字典\n"
   ]
  },
  {
   "cell_type": "code",
   "execution_count": null,
   "metadata": {},
   "outputs": [
    {
     "data": {
      "text/plain": [
       "{'name': None, 'age': None, 'sex': None}"
      ]
     },
     "execution_count": 31,
     "metadata": {},
     "output_type": "execute_result"
    }
   ],
   "source": [
    "dict_f = dict.fromkeys(['name', 'age', 'sex'])\n",
    "dict_f\n"
   ]
  },
  {
   "cell_type": "markdown",
   "metadata": {},
   "source": [
    "### (5)使用 del 删除字典\n"
   ]
  },
  {
   "cell_type": "code",
   "execution_count": null,
   "metadata": {},
   "outputs": [
    {
     "data": {
      "text/plain": [
       "{'year': 2022, 'month': 'March'}"
      ]
     },
     "execution_count": 32,
     "metadata": {},
     "output_type": "execute_result"
    }
   ],
   "source": [
    "dict_g = dict(year=2022, month='March')\n",
    "dict_g\n"
   ]
  },
  {
   "cell_type": "markdown",
   "metadata": {},
   "source": [
    "## 字典的使用\n"
   ]
  },
  {
   "cell_type": "markdown",
   "metadata": {},
   "source": [
    "### (1)以键作为下标可以读取字典元素，若键不存在则抛出异常\n"
   ]
  },
  {
   "cell_type": "code",
   "execution_count": null,
   "metadata": {},
   "outputs": [
    {
     "data": {
      "text/plain": [
       "'Tom'"
      ]
     },
     "execution_count": 19,
     "metadata": {},
     "output_type": "execute_result"
    }
   ],
   "source": [
    "dict_g = {'name': 'Tom', 'sex': 'male', 'age': 37}\n",
    "dict_g['name']\n"
   ]
  },
  {
   "cell_type": "markdown",
   "metadata": {},
   "source": [
    "### (2)使用字典对象的 get()方法获取指定键对应的值\n"
   ]
  },
  {
   "cell_type": "code",
   "execution_count": null,
   "metadata": {},
   "outputs": [
    {
     "name": "stdout",
     "output_type": "stream",
     "text": [
      "male\n"
     ]
    }
   ],
   "source": [
    "dict_h = {'name': 'Petty', 'sex': 'male', 'age': 17}\n",
    "print(dict_h.get('sex'))\n"
   ]
  },
  {
   "cell_type": "markdown",
   "metadata": {},
   "source": [
    "## 集合的创建\n",
    "### (1)使用{}或者 set()函数创建集合\n"
   ]
  },
  {
   "cell_type": "code",
   "execution_count": null,
   "metadata": {},
   "outputs": [],
   "source": [
    "set_a = {10, 3, 5, 1, 2, 1, 2, 3, 1, 1, 1, 1}\n",
    "set_b = set()  # 创建一个空集合必须用set()而不是{}，因为{}是用来创建一个空字典"
   ]
  },
  {
   "cell_type": "markdown",
   "metadata": {},
   "source": [
    "#### (2)使用 set()将其他类型数据转换为集合\n"
   ]
  },
  {
   "cell_type": "code",
   "execution_count": null,
   "metadata": {},
   "outputs": [],
   "source": [
    "set_c = set([0, 1, 2, 3, 0, 1, 2, 3, 7, 8])  # 将列表转换为集合并且自动去重\n",
    "print(set_c)\n",
    "set_d = set(range(0, 21))\n",
    "print(set_d)\n",
    "set_e = set('hello python')  # 将字符串序列转换成集合\n",
    "print(set_e)\n",
    "set_f = set({'a': 1, 'b': 2, 'c': 3})  # 使用set()将字典转换为集合时，只会包含字典中的键\n",
    "print(set_f)"
   ]
  },
  {
   "cell_type": "markdown",
   "metadata": {},
   "source": [
    "## 集合的使用\n",
    "### (1)使用in和not in来检查集合中的元素"
   ]
  },
  {
   "cell_type": "code",
   "execution_count": 97,
   "metadata": {},
   "outputs": [
    {
     "name": "stdout",
     "output_type": "stream",
     "text": [
      "False\n",
      "True\n"
     ]
    }
   ],
   "source": [
    "set_g={'a','b','c',1,2,3}\n",
    "print('e' in set_g)\n",
    "print(0 not in set_g)"
   ]
  },
  {
   "cell_type": "markdown",
   "metadata": {},
   "source": [
    "### (2)使用len()获取集合中元素的数量"
   ]
  },
  {
   "cell_type": "code",
   "execution_count": null,
   "metadata": {},
   "outputs": [
    {
     "name": "stdout",
     "output_type": "stream",
     "text": [
      "6\n"
     ]
    }
   ],
   "source": [
    "set_h={'a','b','c','e','f','g'}\n",
    "print(len(set_h))"
   ]
  },
  {
   "cell_type": "markdown",
   "metadata": {},
   "source": [
    "### (3)使用add()向集合中添加元素"
   ]
  },
  {
   "cell_type": "code",
   "execution_count": null,
   "metadata": {},
   "outputs": [
    {
     "name": "stdout",
     "output_type": "stream",
     "text": [
      "{0, 1, 2, 3, 'g', 'f', 'e', 'a', 'b', 'c'}\n",
      "{0, 1, 2, 3, 'g', 'f', 'e', 'a', 'b', 'c'}\n"
     ]
    }
   ],
   "source": [
    "set_i={'a','b','c','e','f','g',0,1,2}\n",
    "set_i.add(3)\n",
    "print(set_i)\n",
    "set_i.add(0) #如果元素已存在，则不进行任何操作\n",
    "print(set_i)"
   ]
  },
  {
   "cell_type": "markdown",
   "metadata": {},
   "source": [
    "### (3)update()将一个集合中的元素添加到当前集合中"
   ]
  },
  {
   "cell_type": "code",
   "execution_count": null,
   "metadata": {},
   "outputs": [
    {
     "name": "stdout",
     "output_type": "stream",
     "text": [
      "{1, 2, 3, 'hello', 'world'}\n"
     ]
    }
   ],
   "source": [
    "set_j={1,2,3}\n",
    "set_k={\"hello\",'world'}\n",
    "set_j.update(set_k)\n",
    "print(set_j)\n",
    "set_l={1,2,3,4,5}\n",
    "set_l.update({100:'aa',200:'bb',300:'cc'})  #传递一个字典作为参数时只使用键值\n",
    "print(set_l)"
   ]
  },
  {
   "cell_type": "markdown",
   "metadata": {},
   "source": [
    "### (4)pop()随机删除集合中的一个元素"
   ]
  },
  {
   "cell_type": "code",
   "execution_count": null,
   "metadata": {},
   "outputs": [
    {
     "name": "stdout",
     "output_type": "stream",
     "text": [
      "2\n"
     ]
    }
   ],
   "source": [
    "set_m={4, 2, 3, 100, 40, 'o', 'a', 'h'}\n",
    "set_m=set_m.pop()\n",
    "print(set_m)"
   ]
  },
  {
   "cell_type": "markdown",
   "metadata": {},
   "source": [
    "### (5)remove(x)删除集合中指定的元素"
   ]
  },
  {
   "cell_type": "code",
   "execution_count": null,
   "metadata": {},
   "outputs": [
    {
     "name": "stdout",
     "output_type": "stream",
     "text": [
      "{130, 'h', 4, 39, 40, 'b', 'j'}\n"
     ]
    }
   ],
   "source": [
    "set_n={4, 21, 39, 130, 40, 'j', 'b', 'h'}\n",
    "set_n.remove(21)\n",
    "print(set_n)"
   ]
  },
  {
   "cell_type": "markdown",
   "metadata": {},
   "source": [
    "### (6)clear()清空集合"
   ]
  },
  {
   "cell_type": "code",
   "execution_count": null,
   "metadata": {},
   "outputs": [
    {
     "name": "stdout",
     "output_type": "stream",
     "text": [
      "set()\n"
     ]
    }
   ],
   "source": [
    "set_o = {90, 21, 40, 'a', 'e', 'c', }\n",
    "set_o.clear()\n",
    "print(set_o)"
   ]
  },
  {
   "cell_type": "markdown",
   "metadata": {},
   "source": [
    "## 列表、元组、字典等序列的解包操作\n",
    "### (1)列表和元组的解包可以方便对多个变量同时赋值"
   ]
  },
  {
   "cell_type": "code",
   "execution_count": null,
   "metadata": {},
   "outputs": [
    {
     "name": "stdout",
     "output_type": "stream",
     "text": [
      "20\n",
      "11\n",
      "11 33 44\n"
     ]
    }
   ],
   "source": [
    "x,y,z=(10,20,30)    #元组的解包\n",
    "print(y)\n",
    "[a,b,c,d] = [11,22,33,44]    #列表的解包\n",
    "print(a)\n",
    "print(a,c,d)"
   ]
  },
  {
   "cell_type": "markdown",
   "metadata": {},
   "source": [
    "### (2)字典的解包"
   ]
  },
  {
   "cell_type": "code",
   "execution_count": null,
   "metadata": {},
   "outputs": [
    {
     "name": "stdout",
     "output_type": "stream",
     "text": [
      "age\n",
      "name job\n",
      "('sex', '男')\n",
      "('name', 'jack') ('job', 'programmer')\n",
      "programmer\n",
      "jack 男\n"
     ]
    }
   ],
   "source": [
    "dict_i={'name':'jack','age':18,'job':'programmer','sex':'男'}\n",
    "a,b,c,d=dict_i\n",
    "print(b)    #序列解包用于字典时，默认是对“键”进行操作\n",
    "print(a,c)\n",
    "a,b,c,d=dict_i.items()  #如果需要对键值对操作,需要使用items()\n",
    "print(d)\n",
    "print(a,c)\n",
    "a,b,c,d=dict_i.values() #如果需要对值进行操作,需要使用values()\n",
    "print(c)\n",
    "print(a,d)"
   ]
  },
  {
   "cell_type": "markdown",
   "metadata": {},
   "source": [
    "### (3)其他常用解包"
   ]
  },
  {
   "cell_type": "code",
   "execution_count": null,
   "metadata": {},
   "outputs": [
    {
     "name": "stdout",
     "output_type": "stream",
     "text": [
      "3 4 5\n",
      "1 2 3\n",
      "0 1 2\n",
      "23 99 890\n",
      "['0', '1', '2', '3', '4', 4, 5, 6]\n",
      "('a', 1) ('b', 2) ('c', 3) ('d', 4) \n",
      "\n",
      "The value on position 0 is a\n",
      "The value on position 1 is b\n",
      "The value on position 2 is c\n"
     ]
    }
   ],
   "source": [
    "x, y, z = range(3,6)              #可以对range对象进行序列解包\n",
    "print(x,y,z)\n",
    "x, y, z = iter([1, 2, 3])         #使用迭代器对象进行序列解包\n",
    "print(x,y,z)\n",
    "x, y, z = map(str, range(3))      #使用可迭代的map对象进行序列解包\n",
    "print(x,y,z)\n",
    "a, b = b, a                       #交换两个变量的值\n",
    "x, y, z = sorted([99, 23, 890])   #sorted()函数返回排序后的列表\n",
    "print(x,y,z)\n",
    "a, b, c = 'ABC'                   #字符串也支持序列解包\n",
    "x = [1, 2, 3, 4, 5, 6]\n",
    "x[:3] = map(str, range(5))        #切片也支持序列解包\n",
    "print(x)\n",
    "keys= ['a', 'b', 'c', 'd']             \n",
    "values = [1, 2, 3, 4]\n",
    "for k, v in zip(keys, values):     #序列解包遍历多个序列\n",
    "    print((k, v), end=' ')\n",
    "x = ['a', 'b', 'c']                #使用序列解包遍历enumerate对象\n",
    "for i, v in enumerate(x):\n",
    "    print('The value on position {0} is {1}'.format(i,v))"
   ]
  },
  {
   "cell_type": "markdown",
   "metadata": {},
   "source": [
    "## 生成器的使用\n",
    "### (1)使用生成器对象__next__()方法或内置函数next()进行遍历"
   ]
  },
  {
   "cell_type": "code",
   "execution_count": null,
   "metadata": {},
   "outputs": [
    {
     "name": "stdout",
     "output_type": "stream",
     "text": [
      "(4, 9, 16, 25, 36, 49, 64, 81, 100, 121)\n",
      "[]\n",
      "4\n",
      "9\n"
     ]
    },
    {
     "data": {
      "text/plain": [
       "16"
      ]
     },
     "execution_count": 80,
     "metadata": {},
     "output_type": "execute_result"
    }
   ],
   "source": [
    "g = ((i+2)**2 for i in range(10))  # 创建生成器对象\n",
    "print(tuple(g))  # 将生成器对象转换为元组\n",
    "print(list(g))  # 生成器对象已遍历结束，没有元素了\n",
    "\n",
    "g = ((i+2)**2 for i in range(10))  # 重新创建生成器对象\n",
    "print(g.__next__())  # 使用生成器对象的__next__()方法获取元素\n",
    "print(g.__next__())  # 获取下一个元素\n",
    "next(g)  # 使用函数next()获取生成器对象中的元素"
   ]
  },
  {
   "cell_type": "markdown",
   "metadata": {},
   "source": [
    "### (2)使用for循环直接迭代生成器对象中的元素"
   ]
  },
  {
   "cell_type": "code",
   "execution_count": null,
   "metadata": {},
   "outputs": [
    {
     "name": "stdout",
     "output_type": "stream",
     "text": [
      "4 9 16 25 36 49 64 81 100 121 "
     ]
    }
   ],
   "source": [
    "g = ((i+2)**2 for i in range(10))\n",
    "for item in g:                #使用循环直接遍历生成器对象中的元素\n",
    "    print(item, end=' ')"
   ]
  },
  {
   "cell_type": "markdown",
   "metadata": {},
   "source": [
    "## 字典和集合推导式的使用\n",
    "### (1)字典推导式"
   ]
  },
  {
   "cell_type": "code",
   "execution_count": null,
   "metadata": {},
   "outputs": [
    {
     "name": "stdout",
     "output_type": "stream",
     "text": [
      "{'  he  ': 'he', 'she    ': 'she', '    I': 'I'}\n",
      "  he   : he\n",
      "she     : she\n",
      "    I : I\n"
     ]
    },
    {
     "data": {
      "text/plain": [
       "{'A': 'a', 'B': 'b', 'C': 'b', 'D': 'd'}"
      ]
     },
     "execution_count": 87,
     "metadata": {},
     "output_type": "execute_result"
    }
   ],
   "source": [
    "s = {x:x.strip() for x in ('  he  ', 'she    ', '    I')}\n",
    "print(s)\n",
    "for k, v in s.items():\n",
    "    print(k, ':', v)\n",
    "    \n",
    "x = ['A', 'B', 'C', 'D']\n",
    "y = ['a', 'b', 'b', 'd']\n",
    "{i:j for i,j in zip(x,y)}"
   ]
  },
  {
   "cell_type": "markdown",
   "metadata": {},
   "source": [
    "### (2)集合推导式"
   ]
  },
  {
   "cell_type": "code",
   "execution_count": null,
   "metadata": {},
   "outputs": [
    {
     "name": "stdout",
     "output_type": "stream",
     "text": [
      "{'she', 'I', 'he'}\n"
     ]
    }
   ],
   "source": [
    "s = {x.strip() for x in ('  he  ', 'she    ', '    I','he')}\n",
    "print(s) #生成的集合,其保存的元素是唯一的"
   ]
  },
  {
   "cell_type": "markdown",
   "metadata": {},
   "source": [
    "## 配套实验指导书-实验 2\n"
   ]
  },
  {
   "cell_type": "markdown",
   "metadata": {},
   "source": [
    "### (1)编写程序，输入任意大的自然数，输出各位数之和。\n"
   ]
  },
  {
   "cell_type": "code",
   "execution_count": null,
   "metadata": {},
   "outputs": [
    {
     "name": "stdout",
     "output_type": "stream",
     "text": [
      "9\n"
     ]
    }
   ],
   "source": [
    "num = input(\"请输入一个自然数\")\n",
    "print(sum(map(int, num)))"
   ]
  },
  {
   "cell_type": "markdown",
   "metadata": {},
   "source": [
    "### (2)编写程序输入两个集合 setA 和 setB,分别输出它们的交集、并集和差集 setA-setB。\n"
   ]
  },
  {
   "cell_type": "code",
   "execution_count": null,
   "metadata": {},
   "outputs": [],
   "source": [
    "setA = eval(input('请输入集合A'))\n",
    "setB = eval(input('请输入集合B'))\n",
    "print('交集：', setA & setB)\n",
    "print('并集：', setA | setB)\n",
    "print('差集setA-setB：', setA-setB)\n"
   ]
  },
  {
   "cell_type": "markdown",
   "metadata": {},
   "source": [
    "### (3) 编写程序，输入一个自然数，输出它的二进制、八进制、十六进制表示形式。\n"
   ]
  },
  {
   "cell_type": "code",
   "execution_count": null,
   "metadata": {},
   "outputs": [
    {
     "name": "stdout",
     "output_type": "stream",
     "text": [
      "二进制: 0b100010\n",
      "八进制: 0o42\n",
      "十六进制: 0x22\n"
     ]
    }
   ],
   "source": [
    "num = int(input('请输入一个自然数:'))\n",
    "print(\"二进制:\", bin(num))\n",
    "print(\"八进制:\", oct(num))\n",
    "print(\"十六进制:\", hex(num))"
   ]
  },
  {
   "cell_type": "markdown",
   "metadata": {},
   "source": [
    "### (4)编写程序，输入一个包含若干整数的列表，输出一个新列表，要求新列表中只包含原列表中的偶数。\n"
   ]
  },
  {
   "cell_type": "code",
   "execution_count": null,
   "metadata": {},
   "outputs": [],
   "source": [
    "list_1 = input('请输入一个包含若干整数的列表:')\n",
    "list_1 = eval(list_1)\n",
    "print(list_1(filter(lambda x: x % 2 == 0, list_1)))"
   ]
  },
  {
   "cell_type": "markdown",
   "metadata": {},
   "source": [
    "### (5)编写程序，输入两个分别包含若干整数的列表 lstA 和 lstB,输入一个字典，要求使用列表 lstA 中的元素作为键，列表 lstB 中的元素作为值，并且最终字典中的元素数量取决于 lstA 和 lstB 中元素最少的列表的数量。\n"
   ]
  },
  {
   "cell_type": "code",
   "execution_count": null,
   "metadata": {},
   "outputs": [],
   "source": [
    "lstA = eval(input(\"请输入包含若干整数的列表lstA:\"))\n",
    "lstB = eval(input(\"请输入包含若干整数的列表lstB:\"))\n",
    "result = dict(zip(lstA, lstB))\n",
    "print(result)"
   ]
  },
  {
   "cell_type": "markdown",
   "metadata": {},
   "source": [
    "### (6)编写程序，输入一个包含若干整数的列表，输出新列表，要求新列表中的所有元素来自于输入的列表，并且降序排序。\n"
   ]
  },
  {
   "cell_type": "code",
   "execution_count": null,
   "metadata": {},
   "outputs": [],
   "source": [
    "lst = eval(input('请输入包含若干整数的列表lst:'))\n",
    "print(sorted(lst, reverse=True))"
   ]
  },
  {
   "cell_type": "markdown",
   "metadata": {},
   "source": [
    "### (7)编写程序，输入一个包含若干整数的列表，输入列表中所有整数连乘的结果。\n"
   ]
  },
  {
   "cell_type": "code",
   "execution_count": null,
   "metadata": {},
   "outputs": [],
   "source": [
    "from functools import reduce\n",
    "lst = eval(input(\"请输入包含若干整数的列表lst:\"))\n",
    "print(reduce(lambda x, y: x*y, lst))\n"
   ]
  },
  {
   "cell_type": "markdown",
   "metadata": {},
   "source": [
    "### (8)编写程序，输入两个包含 2 个整数的列表，分别表示城市中两个地点的坐标，输出两点之间的曼哈顿距离。\n"
   ]
  },
  {
   "cell_type": "code",
   "execution_count": null,
   "metadata": {},
   "outputs": [],
   "source": [
    "lstA = eval(input(\"请输入包含若干整数的列表lstA:\"))\n",
    "lstB = eval(input(\"请输入包含若干整数的列表lstB:\"))\n",
    "print(sum(map(lambda i, j: abs(i-j), lstA, lstB)))\n"
   ]
  },
  {
   "cell_type": "markdown",
   "metadata": {},
   "source": [
    "### (9)编写程序，输入包含若干集合的列表，输出这些集合的并集。要求使用 reduce()函数和 lambda 表达式完成。\n"
   ]
  },
  {
   "cell_type": "code",
   "execution_count": null,
   "metadata": {},
   "outputs": [],
   "source": [
    "from functools import reduce\n",
    "lstSets = eval(input(\"请输入包含若干集合的的列表：\"))\n",
    "print(reduce(lambda x, y: x | y, lstSets))\n"
   ]
  },
  {
   "cell_type": "markdown",
   "metadata": {},
   "source": [
    "#### (10)编写程序，输入等比数列的首项、公比(不等于 1 且小于 36 的正整数)和一个自然数 n，输出这个等比数列前 n 项的和。关键步骤要求使用内置函数 int()。\n"
   ]
  },
  {
   "cell_type": "code",
   "execution_count": null,
   "metadata": {},
   "outputs": [],
   "source": [
    "a1 = int(input('请输入等比数列的首项：'))\n",
    "q = int(input(\"请输入等比数列公比：\"))\n",
    "n = int(input(\"请输入一个自然数:\"))\n",
    "result = a1*int('1'*n, q)\n",
    "print(result)\n"
   ]
  },
  {
   "cell_type": "markdown",
   "metadata": {},
   "source": [
    "### (11)编写程序，输入一个字符串，输出其中出现次数最多的字符及其出现的次数。要求使用字典。\n"
   ]
  },
  {
   "cell_type": "code",
   "execution_count": null,
   "metadata": {},
   "outputs": [],
   "source": [
    "data = input('请输入一个字符串：')\n",
    "d = dict()\n",
    "for ch in data:\n",
    "    d[ch] = d.get(ch, 0)+1\n",
    "mostCommon = max(d.items(), key=lambda item: item[1])\n",
    "print(mostCommon)\n"
   ]
  }
 ],
 "metadata": {
  "interpreter": {
   "hash": "4ce0e62306dd6a5716965d4519ada776f947e6dfc145b604b11307c10277ef29"
  },
  "kernelspec": {
   "display_name": "Python 3.9.10 64-bit",
   "language": "python",
   "name": "python3"
  },
  "language_info": {
   "codemirror_mode": {
    "name": "ipython",
    "version": 3
   },
   "file_extension": ".py",
   "mimetype": "text/x-python",
   "name": "python",
   "nbconvert_exporter": "python",
   "pygments_lexer": "ipython3",
   "version": "3.9.10"
  },
  "orig_nbformat": 4
 },
 "nbformat": 4,
 "nbformat_minor": 2
}
