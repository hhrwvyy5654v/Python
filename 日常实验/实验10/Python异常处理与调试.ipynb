{
 "cells": [
  {
   "cell_type": "markdown",
   "metadata": {},
   "source": [
    "##### （一）参考教材8.2(P183),编写自定义异常类并测试"
   ]
  },
  {
   "cell_type": "code",
   "execution_count": 5,
   "metadata": {},
   "outputs": [
    {
     "name": "stdout",
     "output_type": "stream",
     "text": [
      "课程名称: Python语言程序设计\n",
      "二话不说,一致好评,必须点赞!\n"
     ]
    }
   ],
   "source": [
    "class Teaching_evaluation(Exception):\n",
    "    '''自定义的异常类'''\n",
    "\n",
    "    def __init__(self, Course):\n",
    "        self.Course = Course\n",
    "\n",
    "    def __str__(self):\n",
    "        if self.Course=='Python语言程序设计':\n",
    "            return \"二话不说,一致好评,必须点赞!\"\n",
    "        else:\n",
    "            return \"这个问题需要深入思考一下!\"\n",
    "\n",
    "try:\n",
    "    Course = 'Python语言程序设计'\n",
    "    print(\"课程名称:\",Course)\n",
    "    if Course =='Python语言程序设计':\n",
    "        exc = Teaching_evaluation(Course)\n",
    "        print(exc)\n",
    "    else:\n",
    "        raise Teaching_evaluation(Course)\n",
    "except Teaching_evaluation as e:\n",
    "    print(e)"
   ]
  },
  {
   "cell_type": "markdown",
   "metadata": {},
   "source": [
    "##### （二）使用读方式打开一个不存在的txt文件, 编写相应的异常处理,使得出现异常时候就新建一个该文件,并退出 "
   ]
  },
  {
   "cell_type": "code",
   "execution_count": 6,
   "metadata": {},
   "outputs": [
    {
     "name": "stdout",
     "output_type": "stream",
     "text": [
      "文件创建成功！\n"
     ]
    }
   ],
   "source": [
    "import os\n",
    "try:\n",
    "    with open(\"test.txt\",mode='r',encoding='utf-8') as ff:\n",
    "        print(ff.readlines())\n",
    "except FileNotFoundError:\n",
    "    with open(\"test.txt\", mode='w', encoding='utf-8') as ff:\n",
    "        print(\"文件创建成功！\")"
   ]
  },
  {
   "cell_type": "markdown",
   "metadata": {},
   "source": [
    "##### （三）在以往的代码中,在合适的位置加入assert确保某个值的正确性"
   ]
  },
  {
   "cell_type": "code",
   "execution_count": 8,
   "metadata": {},
   "outputs": [
    {
     "name": "stdout",
     "output_type": "stream",
     "text": [
      "9除以3 = 3.0\n"
     ]
    },
    {
     "ename": "AssertionError",
     "evalue": "",
     "output_type": "error",
     "traceback": [
      "\u001b[1;31m---------------------------------------------------------------------------\u001b[0m",
      "\u001b[1;31mAssertionError\u001b[0m                            Traceback (most recent call last)",
      "\u001b[1;32md:\\Programming_development\\Python\\Python程序设计第3版\\实验报告\\实验10\\Python异常处理与调试.ipynb Cell 6'\u001b[0m in \u001b[0;36m<cell line: 6>\u001b[1;34m()\u001b[0m\n\u001b[0;32m      <a href='vscode-notebook-cell:/d%3A/Programming_development/Python/Python%E7%A8%8B%E5%BA%8F%E8%AE%BE%E8%AE%A1%E7%AC%AC3%E7%89%88/%E5%AE%9E%E9%AA%8C%E6%8A%A5%E5%91%8A/%E5%AE%9E%E9%AA%8C10/Python%E5%BC%82%E5%B8%B8%E5%A4%84%E7%90%86%E4%B8%8E%E8%B0%83%E8%AF%95.ipynb#ch0000005?line=2'>3</a>\u001b[0m     \u001b[39mreturn\u001b[39;00m dividend \u001b[39m/\u001b[39m divisor\n\u001b[0;32m      <a href='vscode-notebook-cell:/d%3A/Programming_development/Python/Python%E7%A8%8B%E5%BA%8F%E8%AE%BE%E8%AE%A1%E7%AC%AC3%E7%89%88/%E5%AE%9E%E9%AA%8C%E6%8A%A5%E5%91%8A/%E5%AE%9E%E9%AA%8C10/Python%E5%BC%82%E5%B8%B8%E5%A4%84%E7%90%86%E4%B8%8E%E8%B0%83%E8%AF%95.ipynb#ch0000005?line=4'>5</a>\u001b[0m \u001b[39mprint\u001b[39m(\u001b[39m'\u001b[39m\u001b[39m9除以3 =\u001b[39m\u001b[39m'\u001b[39m, division(\u001b[39m9\u001b[39m, \u001b[39m3\u001b[39m))  \u001b[39m# 执行成功\u001b[39;00m\n\u001b[1;32m----> <a href='vscode-notebook-cell:/d%3A/Programming_development/Python/Python%E7%A8%8B%E5%BA%8F%E8%AE%BE%E8%AE%A1%E7%AC%AC3%E7%89%88/%E5%AE%9E%E9%AA%8C%E6%8A%A5%E5%91%8A/%E5%AE%9E%E9%AA%8C10/Python%E5%BC%82%E5%B8%B8%E5%A4%84%E7%90%86%E4%B8%8E%E8%B0%83%E8%AF%95.ipynb#ch0000005?line=5'>6</a>\u001b[0m \u001b[39mprint\u001b[39m(\u001b[39m'\u001b[39m\u001b[39m2除以0 =\u001b[39m\u001b[39m'\u001b[39m, division(\u001b[39m2\u001b[39;49m, \u001b[39m0\u001b[39;49m))\n",
      "\u001b[1;32md:\\Programming_development\\Python\\Python程序设计第3版\\实验报告\\实验10\\Python异常处理与调试.ipynb Cell 6'\u001b[0m in \u001b[0;36mdivision\u001b[1;34m(dividend, divisor)\u001b[0m\n\u001b[0;32m      <a href='vscode-notebook-cell:/d%3A/Programming_development/Python/Python%E7%A8%8B%E5%BA%8F%E8%AE%BE%E8%AE%A1%E7%AC%AC3%E7%89%88/%E5%AE%9E%E9%AA%8C%E6%8A%A5%E5%91%8A/%E5%AE%9E%E9%AA%8C10/Python%E5%BC%82%E5%B8%B8%E5%A4%84%E7%90%86%E4%B8%8E%E8%B0%83%E8%AF%95.ipynb#ch0000005?line=0'>1</a>\u001b[0m \u001b[39mdef\u001b[39;00m \u001b[39mdivision\u001b[39m(dividend, divisor):\n\u001b[1;32m----> <a href='vscode-notebook-cell:/d%3A/Programming_development/Python/Python%E7%A8%8B%E5%BA%8F%E8%AE%BE%E8%AE%A1%E7%AC%AC3%E7%89%88/%E5%AE%9E%E9%AA%8C%E6%8A%A5%E5%91%8A/%E5%AE%9E%E9%AA%8C10/Python%E5%BC%82%E5%B8%B8%E5%A4%84%E7%90%86%E4%B8%8E%E8%B0%83%E8%AF%95.ipynb#ch0000005?line=1'>2</a>\u001b[0m     \u001b[39massert\u001b[39;00m divisor \u001b[39m!=\u001b[39m \u001b[39m0\u001b[39m\n\u001b[0;32m      <a href='vscode-notebook-cell:/d%3A/Programming_development/Python/Python%E7%A8%8B%E5%BA%8F%E8%AE%BE%E8%AE%A1%E7%AC%AC3%E7%89%88/%E5%AE%9E%E9%AA%8C%E6%8A%A5%E5%91%8A/%E5%AE%9E%E9%AA%8C10/Python%E5%BC%82%E5%B8%B8%E5%A4%84%E7%90%86%E4%B8%8E%E8%B0%83%E8%AF%95.ipynb#ch0000005?line=2'>3</a>\u001b[0m     \u001b[39mreturn\u001b[39;00m dividend \u001b[39m/\u001b[39m divisor\n",
      "\u001b[1;31mAssertionError\u001b[0m: "
     ]
    }
   ],
   "source": [
    "def division(dividend, divisor):\n",
    "    assert divisor != 0\n",
    "    return dividend / divisor\n",
    "\n",
    "print('9除以3 =', division(9, 3))  # 执行成功\n",
    "print('2除以0 =', division(2, 0))  # 抛出异常"
   ]
  }
 ],
 "metadata": {
  "interpreter": {
   "hash": "861f9c34f7302a1aedb62edfc1533c524ce2793735e6b405602ea89eb9cb2484"
  },
  "kernelspec": {
   "display_name": "Python 3.9.12 ('base')",
   "language": "python",
   "name": "python3"
  },
  "language_info": {
   "codemirror_mode": {
    "name": "ipython",
    "version": 3
   },
   "file_extension": ".py",
   "mimetype": "text/x-python",
   "name": "python",
   "nbconvert_exporter": "python",
   "pygments_lexer": "ipython3",
   "version": "3.9.12"
  },
  "orig_nbformat": 4
 },
 "nbformat": 4,
 "nbformat_minor": 2
}
