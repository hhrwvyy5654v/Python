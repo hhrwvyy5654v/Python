{
 "cells": [
  {
   "cell_type": "markdown",
   "metadata": {},
   "source": [
    "#### （一）实验指导书-23：自定义类模拟三维向量及其运算<br>\n",
    "实验目的：<br>\n",
    "&emsp;&emsp;1、了解如何定义一个类。<br>\n",
    "&emsp;&emsp;2、了解如何定义类的私有数据成员和成员方法。<br>\n",
    "&emsp;&emsp;3、了解如何使用自定义类实例化对象。<br><br>\n",
    "实验内容：<br>\n",
    "&emsp;&emsp;定义一个三维向量类，并定义相应的特殊方法实现两个该类对象之间的加、减运算（要求支持运算符+、-），实现该类对象与标量的乘、除运算（要求支持运算符*、/），以及向量长度的计算（要求使用属性实现）。"
   ]
  },
  {
   "cell_type": "code",
   "execution_count": 1,
   "metadata": {},
   "outputs": [
    {
     "name": "stdout",
     "output_type": "stream",
     "text": [
      "Vector_3(3,7,11)\n",
      "Vector_3(-1,-1,-1)\n",
      "Vector_3(3,9,15)\n",
      "Vector_3(1.0,2.0,3.0)\n",
      "4.358898943540674\n"
     ]
    }
   ],
   "source": [
    "class Vector_3:\n",
    "    # 构造方法，初始化，定义向量坐标\n",
    "    def __init__(self, x, y, z):\n",
    "        self._x = x\n",
    "        self._y = y\n",
    "        self._z = z\n",
    "\n",
    "    # 向量加法：对应分量相加，返回新向量\n",
    "    def __add__(self, anotherPoint):\n",
    "        x = self._x+anotherPoint._x\n",
    "        y = self._y+anotherPoint._y\n",
    "        z = self._z+anotherPoint._z\n",
    "        return Vector_3(x, y, z)\n",
    "\n",
    "    # 向量减法：对应分量相减，返回新向量\n",
    "    def __sub__(self, anotherPoint):\n",
    "        x = self._x-anotherPoint._x\n",
    "        y = self._y-anotherPoint._y\n",
    "        z = self._z-anotherPoint._z\n",
    "        return Vector_3(x, y, z)\n",
    "\n",
    "    # 向量乘法：各分量乘以同一个数字，返回新向量\n",
    "    def __mul__(self, n):\n",
    "        x, y, z = self._x*n, self._y*n, self._z*n\n",
    "        return Vector_3(x, y, z)\n",
    "\n",
    "    # 向量除法：各分量除以同一个数字，返回新向量\n",
    "    def __truediv__(self, n):\n",
    "        x, y, z = self._x/n, self._y/n, self._z/n\n",
    "        return Vector_3(x, y, z)\n",
    "\n",
    "    # 向量长度：计算所有分量平方和的平方根\n",
    "    @property\n",
    "    def length(self):\n",
    "        return (self._x**2+self._y**2+self._y**2)**0.5\n",
    "\n",
    "    def __str__(self):\n",
    "        return 'Vector_3({},{},{})'.format(self._x, self._y, self._z)\n",
    "\n",
    "\n",
    "v1 = Vector_3(1, 3, 5)\n",
    "v2 = Vector_3(2, 4, 6)\n",
    "print(v1+v2)\n",
    "print(v1-v2)\n",
    "print(v1*3)\n",
    "print(v2/2)\n",
    "print(v1.length)\n"
   ]
  },
  {
   "cell_type": "markdown",
   "metadata": {},
   "source": [
    "#### （二）定义一个Person父类和Student, Staff子类；父类定义shouru，display方法，Student类的收入按照初始化奖学金计算，Staff的按照60%*工资+40%*奖金计算，调用display显示工资。编写测试代码。"
   ]
  },
  {
   "cell_type": "code",
   "execution_count": 2,
   "metadata": {},
   "outputs": [
    {
     "name": "stdout",
     "output_type": "stream",
     "text": [
      "Person kkk 的收入是: 5000\n",
      "学生 lll 的奖学金是: 3000\n",
      "职工 jjj 的收入是: 5200.0\n"
     ]
    }
   ],
   "source": [
    "# 定义父类Person\n",
    "class Person:\n",
    "    #构造函数\n",
    "    def __init__(self,name,income):\n",
    "        self._name=name\n",
    "        self._income=income\n",
    "    def display(self):\n",
    "        print('Person',self._name,'的收入是:',self._income)  \n",
    "\n",
    "#定义学生类\n",
    "class Student(Person):\n",
    "    # 构造函数\n",
    "    def __init__(self,name,scholarship):\n",
    "        self._name=name\n",
    "        self._scholarship=scholarship\n",
    "        \n",
    "    def display(self):\n",
    "        print('学生',self._name,'的奖学金是:',self._scholarship)\n",
    "\n",
    "#定义职工类\n",
    "class Staff(Person):\n",
    "    # 构造函数\n",
    "    def __init__(self,name,wages,bonus):\n",
    "        self._name=name\n",
    "        self._wages=wages\n",
    "        self._bonus=bonus\n",
    "        \n",
    "    def display(self):\n",
    "        print('职工',self._name,'的收入是:',self._wages*0.6+self._bonus*0.4)\n",
    "        \n",
    "# 实例化对象并调用函数\n",
    "person=Person('kkk',5000)\n",
    "person.display()\n",
    "student=Student('lll',3000)\n",
    "student.display()\n",
    "staff=Staff('jjj',6000,4000)\n",
    "staff.display()"
   ]
  },
  {
   "cell_type": "markdown",
   "metadata": {},
   "source": [
    "#### （三）实验指导书-24:自定义类实现带超时功能的队列结构，并测试。\n",
    "实验目的：<br>\n",
    "&emsp;&emsp;1、了解标准库 time 中 time()函数的用法。<br>\n",
    "&emsp;&emsp;2、了解如何定义一个类。<br>\n",
    "&emsp;&emsp;3、理解队列结构的特点。<br>\n",
    "&emsp;&emsp;4、理解入队和出队时超时功能的实现。<br>\n",
    "实验内容：<br>\n",
    "&emsp;&emsp;编写程序，实现自定义类，模拟队列结构。要求实现入队、出队以及修改队列大小和判断队列是否为空、是否为满的功能，同时要求在入队时如果队列已满则等待指定时间、出队时如果队列已空则等待指定时间等辅助功能。"
   ]
  },
  {
   "cell_type": "code",
   "execution_count": null,
   "metadata": {},
   "outputs": [],
   "source": [
    "import time\n",
    "\n",
    "class Queue:\n",
    "    # 构造函数\n",
    "    def __init__(self, size=10):\n",
    "        self._content = []\n",
    "        self._size = size\n",
    "        self._current = 0\n",
    "        \n",
    "    # 设置队列的长度\n",
    "    def setSize(self, size):\n",
    "        if size < self._current:\n",
    "            # 如果队列缩小，删除后面的元素\n",
    "            for i in range(size, self._current)[::-1]:\n",
    "                del self._content[i]\n",
    "            self._current = size    \n",
    "        self._size = size   #更新队列长度\n",
    "\n",
    "    # 模拟入队操作\n",
    "    def enter_queue(self,v,timeout=999999):\n",
    "        for i in range(timeout):\n",
    "            # 当队列未满时，在队尾追加元素\n",
    "            if self._current<self.size:\n",
    "                self._content.append(v)\n",
    "                self._current=self._current+1\n",
    "                break\n",
    "            time.sleep(1)\n",
    "        # 当队列已满，为阻塞状态，超时放弃\n",
    "        else:\n",
    "            return '队列已满，超时放弃'\n",
    "    \n",
    "    # 模拟出队操作\n",
    "    def leave_queue(self,timeout=999999):\n",
    "        for i in range(timeout):\n",
    "            # 从列表头部弹出元素\n",
    "            if self._content:\n",
    "                self._current-=1\n",
    "                return self._content.pop(0)\n",
    "            time.sleep(1)\n",
    "        # 当队列为空，为阻塞状态，超时放弃\n",
    "        else:\n",
    "            return '队列为空,超时放弃'\n",
    "        \n",
    "    def show(self):\n",
    "        # 当列表非空，输出列表\n",
    "        if self._content:\n",
    "            print(self._content)\n",
    "        else:\n",
    "            print('队列为空')\n",
    "    \n",
    "    #清空队列\n",
    "    def empty(self):\n",
    "        self._content=[]\n",
    "        self._current=0\n",
    "        \n",
    "    # 判断队列是否为空\n",
    "    def wheather_Empty(self):\n",
    "        return not self._content\n",
    "    \n",
    "    # 判断队列是否已满\n",
    "    def wheather_Full(self):\n",
    "        return self._current==self._size \n",
    "    \n",
    "\n",
    "if __name__ =='___main___':\n",
    "    pass"
   ]
  }
 ],
 "metadata": {
  "interpreter": {
   "hash": "b003d8754f68205f230b91d29752a0899194161977d5c87b83f80e078894fa96"
  },
  "kernelspec": {
   "display_name": "Python 3.9.5 ('base')",
   "language": "python",
   "name": "python3"
  },
  "language_info": {
   "codemirror_mode": {
    "name": "ipython",
    "version": 3
   },
   "file_extension": ".py",
   "mimetype": "text/x-python",
   "name": "python",
   "nbconvert_exporter": "python",
   "pygments_lexer": "ipython3",
   "version": "3.9.5"
  },
  "orig_nbformat": 4
 },
 "nbformat": 4,
 "nbformat_minor": 2
}
