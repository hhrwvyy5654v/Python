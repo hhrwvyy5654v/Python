{
 "cells": [
  {
   "cell_type": "markdown",
   "metadata": {},
   "source": [
    "（一）实验指导书-25：读写文本文件并添加行号"
   ]
  },
  {
   "cell_type": "code",
   "execution_count": 14,
   "metadata": {},
   "outputs": [],
   "source": [
    "file_path = './test.txt'  # 定义文件路径\n",
    "\n",
    "with open(file_path, 'r') as fp:  # 以只读的方式打开该文件\n",
    "    lines = fp.readlines()  # 从文件读取整行，可作列表使用，使用前提是open模式为'r'\n",
    "max_length = len(max(lines, key=len))  # 长度为规则,根据元素的长度来决定排序规则，\n",
    "\n",
    "lines = [line.rstrip().ljust(max_length) + '#' + str(index+1) +\n",
    "         '\\n' for index, line in enumerate(lines)]\n",
    "\n",
    "# 创建文件的格式：open(‘path’+file_path+‘文件格式’,‘w’)\n",
    "with open(file_path[:-4]+'_with_line_number.txt', 'w') as fp:\n",
    "    fp.writelines(lines)  # 切片截取文件名"
   ]
  },
  {
   "cell_type": "markdown",
   "metadata": {},
   "source": [
    "### （二）实验指导书-27:磁盘垃圾文件清理器\n",
    "**实验目的：**<br>\n",
    "1、熟练运用标准库 os 和 os.path 中的函数。<br>\n",
    "2、理解 sys 库中 argv 成员用法。<br>\n",
    "3、理解 Python 程序接收命令行参数的方式。<br>\n",
    "4、理解递归遍历目录树的原理。<br>\n",
    "5、了解从命令提示符环境运行 Python 程序的方式。<br>\n",
    "**实验内容：**<br>\n",
    "编写程序，实现磁盘垃圾文件清理功能。要求程序运行时，通过**命令行参数**指定要清理的文件夹，然后删除该文件夹及其子文件夹中所有扩展名为 tmp、log、obj、txt 以及大小为 0 的文件。"
   ]
  },
  {
   "cell_type": "code",
   "execution_count": 12,
   "metadata": {},
   "outputs": [],
   "source": [
    "import os\n",
    "import sys\n",
    "\n",
    "def delete_document(path):\n",
    "    for root, _, floder in os.walk(path):\n",
    "        for file in floder:\n",
    "            if file.endswith('.tmp') or file.endswith('.log') or file.endswith('.obj') or file.endswith('.txt'):\n",
    "                os.remove(os.path.join(root, file))\n",
    "                print(root+\"/\"+file, \" is being removed\")\n",
    "\n",
    "path = sys.argv[1]\n",
    "delete_document(path)\n"
   ]
  },
  {
   "cell_type": "markdown",
   "metadata": {},
   "source": [
    "（三）Pickle模块的使用:参考教材7.3.1,编写pickle文件的写入和读取"
   ]
  },
  {
   "cell_type": "code",
   "execution_count": 3,
   "metadata": {},
   "outputs": [],
   "source": [
    "import pickle\n",
    "\n",
    "i = 13000000\n",
    "a = 99.056\n",
    "s = '中国人民123abc'\n",
    "lst = [[1, 2, 3], [4, 5, 6], [7, 8, 9]]\n",
    "tu = (-5, 10, 8)\n",
    "coll = {4, 5, 6}\n",
    "dic = {'a': 'apple', 'b': 'banana', 'g': 'grape', 'o': 'orange'}\n",
    "data = [i, a, s, lst, tu, coll, dic]\n",
    "\n",
    "with open('sample_pickle.txt', 'wb') as f:\n",
    "    try:\n",
    "        pickle.dump(len(data), f)  # 表示后面将要写入的数据个数\n",
    "        for item in data:\n",
    "            pickle.dump(item, f)\n",
    "    except:\n",
    "        print('写文件异常!')  # 如果写文件异常则跳到此处执行\n"
   ]
  },
  {
   "cell_type": "markdown",
   "metadata": {},
   "source": [
    "### （四）为什么文件操作的close()方法有时候用有时候不需要?\n",
    "&emsp;&emsp;当对文件内容操作完以后，一定要关闭文件对象，这样才能保证所做的任何修改都确实被保存到文件中"
   ]
  }
 ],
 "metadata": {
  "interpreter": {
   "hash": "861f9c34f7302a1aedb62edfc1533c524ce2793735e6b405602ea89eb9cb2484"
  },
  "kernelspec": {
   "display_name": "Python 3.9.5 ('base')",
   "language": "python",
   "name": "python3"
  },
  "language_info": {
   "codemirror_mode": {
    "name": "ipython",
    "version": 3
   },
   "file_extension": ".py",
   "mimetype": "text/x-python",
   "name": "python",
   "nbconvert_exporter": "python",
   "pygments_lexer": "ipython3",
   "version": "3.9.12"
  },
  "orig_nbformat": 4
 },
 "nbformat": 4,
 "nbformat_minor": 2
}
